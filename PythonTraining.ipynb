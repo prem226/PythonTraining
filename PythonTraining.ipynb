{
 "cells": [
  {
   "cell_type": "code",
   "execution_count": 3,
   "id": "337bb8a3",
   "metadata": {},
   "outputs": [
    {
     "name": "stdout",
     "output_type": "stream",
     "text": [
      "1.Create Employee record\n",
      "2.Update Employee record\n",
      "3.Delete Employee record\n",
      "4.Display Employee record\n",
      "5.Exit\n",
      "Enter choice: 5\n"
     ]
    }
   ],
   "source": [
    "\n",
    "\n",
    "emp_info = {}\n",
    "\n",
    "while True:\n",
    "    print(\"1.Create Employee record\")\n",
    "    print(\"2.Update Employee record\")\n",
    "    print(\"3.Delete Employee record\")\n",
    "    print(\"4.Display Employee record\")\n",
    "    print(\"5.Exit\") \n",
    "    \n",
    "    ch = int(input(\"Enter choice: \"))\n",
    "    \n",
    "    if ch == 1:\n",
    "        name = input(\"Enter employee name: \")\n",
    "        Emp_id = int(input(\"Enter employee Id: \"))\n",
    "        ph = input(\"Enter employee phone number: \")\n",
    "        tech = input(\"Technologies [comma separated eg: C++, Java, python]\")\n",
    "        emp_info[emp_id] = {\"name\": name, \"phone\":ph, \"tech\":tech.split(',')}\n",
    "    elif ch==2:\n",
    "        who =int(input(\"Whose details you want to update? (Please enter emp id): \"))\n",
    "        rec = emp_info[who]\n",
    "        for field,value in rec.items():\n",
    "            new  = input('{}({})'.format(field,value))\n",
    "            emp_info[who][field] = value if new == '' else new\n",
    "    elif ch==3:\n",
    "        who=int(input(\"Enter the employee id: \"))\n",
    "        if who in emp_info:\n",
    "            del emp_info[who]\n",
    "            print(\"Employee info deleted successfully!\")\n",
    "        else:\n",
    "            print(\"Record not found!\")\n",
    "    elif ch==4:\n",
    "            print(emp_info)\n",
    "    else:\n",
    "            break\n",
    "\n",
    "            \n"
   ]
  },
  {
   "cell_type": "code",
   "execution_count": 7,
   "id": "be34b97e",
   "metadata": {},
   "outputs": [
    {
     "data": {
      "text/plain": [
       "[0, 1, 2, 3, 4, 5, 6, 7, 8, 9]"
      ]
     },
     "execution_count": 7,
     "metadata": {},
     "output_type": "execute_result"
    }
   ],
   "source": [
    "[x for x in range(10)]"
   ]
  },
  {
   "cell_type": "code",
   "execution_count": 6,
   "id": "a6f9ca9c",
   "metadata": {},
   "outputs": [
    {
     "data": {
      "text/plain": [
       "[0, 2, 4, 6, 8]"
      ]
     },
     "execution_count": 6,
     "metadata": {},
     "output_type": "execute_result"
    }
   ],
   "source": [
    "[x for x in range(10) if x%2==0 ] "
   ]
  },
  {
   "cell_type": "code",
   "execution_count": 9,
   "id": "86bf8fa8",
   "metadata": {},
   "outputs": [
    {
     "name": "stdout",
     "output_type": "stream",
     "text": [
      "Enter num:3\n",
      "9\n"
     ]
    }
   ],
   "source": [
    "n = [1,2,3,4,5,6,7]\n",
    "num = int(input(\"Enter num:\"))\n",
    "sq = [num**2 for num in n]\n",
    "idx_pos  = n.index(num)\n",
    "print(sq[idx_pos])"
   ]
  },
  {
   "cell_type": "code",
   "execution_count": 10,
   "id": "c1f835a6",
   "metadata": {},
   "outputs": [
    {
     "data": {
      "text/plain": [
       "{1: 1, 2: 4, 3: 9, 4: 16, 5: 25}"
      ]
     },
     "execution_count": 10,
     "metadata": {},
     "output_type": "execute_result"
    }
   ],
   "source": [
    "{k:k**2 for k in range(1,6)}"
   ]
  },
  {
   "cell_type": "code",
   "execution_count": 11,
   "id": "c7c5deee",
   "metadata": {},
   "outputs": [
    {
     "data": {
      "text/plain": [
       "{0: 45, 1: 77, 2: 109, 3: 'data', 4: ['raj', 'rohan']}"
      ]
     },
     "execution_count": 11,
     "metadata": {},
     "output_type": "execute_result"
    }
   ],
   "source": [
    "tp = (45,77,109,'data',[\"raj\",\"rohan\"])\n",
    "\n",
    "{k:tp[k] for k in range (len(tp))}"
   ]
  },
  {
   "cell_type": "code",
   "execution_count": 12,
   "id": "0b5b1e01",
   "metadata": {},
   "outputs": [
    {
     "data": {
      "text/plain": [
       "{0: 45, 1: 77, 2: 109, 3: 'data', 4: ['raj', 'rohan']}"
      ]
     },
     "execution_count": 12,
     "metadata": {},
     "output_type": "execute_result"
    }
   ],
   "source": [
    "{tp.index(v):v for v in tp}"
   ]
  },
  {
   "cell_type": "code",
   "execution_count": 16,
   "id": "926133b5",
   "metadata": {},
   "outputs": [
    {
     "name": "stdout",
     "output_type": "stream",
     "text": [
      "(['raj', 'rohan'], 'data', 109, 77, 45)\n"
     ]
    }
   ],
   "source": [
    "res = tp[::-1]\n",
    "print(res)"
   ]
  },
  {
   "cell_type": "code",
   "execution_count": 17,
   "id": "e6e23df7",
   "metadata": {},
   "outputs": [
    {
     "data": {
      "text/plain": [
       "['__and__',\n",
       " '__class__',\n",
       " '__class_getitem__',\n",
       " '__contains__',\n",
       " '__delattr__',\n",
       " '__dir__',\n",
       " '__doc__',\n",
       " '__eq__',\n",
       " '__format__',\n",
       " '__ge__',\n",
       " '__getattribute__',\n",
       " '__gt__',\n",
       " '__hash__',\n",
       " '__iand__',\n",
       " '__init__',\n",
       " '__init_subclass__',\n",
       " '__ior__',\n",
       " '__isub__',\n",
       " '__iter__',\n",
       " '__ixor__',\n",
       " '__le__',\n",
       " '__len__',\n",
       " '__lt__',\n",
       " '__ne__',\n",
       " '__new__',\n",
       " '__or__',\n",
       " '__rand__',\n",
       " '__reduce__',\n",
       " '__reduce_ex__',\n",
       " '__repr__',\n",
       " '__ror__',\n",
       " '__rsub__',\n",
       " '__rxor__',\n",
       " '__setattr__',\n",
       " '__sizeof__',\n",
       " '__str__',\n",
       " '__sub__',\n",
       " '__subclasshook__',\n",
       " '__xor__',\n",
       " 'add',\n",
       " 'clear',\n",
       " 'copy',\n",
       " 'difference',\n",
       " 'difference_update',\n",
       " 'discard',\n",
       " 'intersection',\n",
       " 'intersection_update',\n",
       " 'isdisjoint',\n",
       " 'issubset',\n",
       " 'issuperset',\n",
       " 'pop',\n",
       " 'remove',\n",
       " 'symmetric_difference',\n",
       " 'symmetric_difference_update',\n",
       " 'union',\n",
       " 'update']"
      ]
     },
     "execution_count": 17,
     "metadata": {},
     "output_type": "execute_result"
    }
   ],
   "source": [
    "dir(set)"
   ]
  },
  {
   "cell_type": "code",
   "execution_count": 22,
   "id": "bafd403d",
   "metadata": {},
   "outputs": [],
   "source": [
    "def greeting(*args, phone=\"1234\", add = \"Pune\"):\n",
    "    print(\"args {}\".format(args))\n",
    "    print(\"Phone {}\".format(phone))\n",
    "    print(\"address {}\".format(add))"
   ]
  },
  {
   "cell_type": "code",
   "execution_count": 24,
   "id": "3e8bd914",
   "metadata": {},
   "outputs": [
    {
     "name": "stdout",
     "output_type": "stream",
     "text": [
      "args (['prem', 29],)\n",
      "Phone 1234\n",
      "address Pune\n"
     ]
    }
   ],
   "source": [
    "greeting([\"prem\",29])"
   ]
  },
  {
   "cell_type": "code",
   "execution_count": 25,
   "id": "aa1a65af",
   "metadata": {},
   "outputs": [],
   "source": [
    "def get_data(name, *args, **kwargs):\n",
    "    print(\"name\", name)\n",
    "    print(\"args\", args)\n",
    "    print(\"kwargs\", kwargs)"
   ]
  },
  {
   "cell_type": "code",
   "execution_count": 26,
   "id": "534d54f3",
   "metadata": {},
   "outputs": [
    {
     "name": "stdout",
     "output_type": "stream",
     "text": [
      "name Prem\n",
      "args (22, 40000)\n",
      "kwargs {'phone': '12345', 'location': 'Pune'}\n"
     ]
    }
   ],
   "source": [
    "get_data(\"Prem\", 22, 40000, phone=\"12345\", location=\"Pune\")"
   ]
  },
  {
   "cell_type": "code",
   "execution_count": 29,
   "id": "b0e79a21",
   "metadata": {},
   "outputs": [],
   "source": [
    "def get_naturalNum(num):\n",
    "    for i in range(1,num+1):\n",
    "        print(i)"
   ]
  },
  {
   "cell_type": "code",
   "execution_count": 30,
   "id": "da6ad0ef",
   "metadata": {},
   "outputs": [
    {
     "name": "stdout",
     "output_type": "stream",
     "text": [
      "1\n",
      "2\n",
      "3\n",
      "4\n",
      "5\n",
      "6\n",
      "7\n",
      "8\n",
      "9\n",
      "10\n"
     ]
    }
   ],
   "source": [
    "get_naturalNum(10)"
   ]
  },
  {
   "cell_type": "code",
   "execution_count": 35,
   "id": "2c347c8d",
   "metadata": {},
   "outputs": [
    {
     "name": "stdout",
     "output_type": "stream",
     "text": [
      "[4, 16, 25, 36]\n"
     ]
    }
   ],
   "source": [
    "def square(x):\n",
    "    return x**2\n",
    "\n",
    "print(list(map(square, {2,4,5,6,6})))"
   ]
  },
  {
   "cell_type": "code",
   "execution_count": 36,
   "id": "1f82eb2e",
   "metadata": {},
   "outputs": [],
   "source": [
    "def outer():\n",
    "    i=10\n",
    "    def inner():\n",
    "        print(i)\n",
    "        print(\"inner\")\n",
    "    def inner2():\n",
    "        print(\"inner2\")\n",
    "    inner()\n",
    "    inner2()\n",
    "    return inner, inner2"
   ]
  },
  {
   "cell_type": "code",
   "execution_count": 37,
   "id": "3edbeebd",
   "metadata": {},
   "outputs": [
    {
     "name": "stdout",
     "output_type": "stream",
     "text": [
      "10\n",
      "inner\n",
      "inner2\n"
     ]
    }
   ],
   "source": [
    "p=outer()"
   ]
  },
  {
   "cell_type": "code",
   "execution_count": 38,
   "id": "40a454e1",
   "metadata": {},
   "outputs": [
    {
     "name": "stdout",
     "output_type": "stream",
     "text": [
      "10\n",
      "inner\n"
     ]
    }
   ],
   "source": [
    "p[0]()"
   ]
  },
  {
   "cell_type": "code",
   "execution_count": 39,
   "id": "34ea54fd",
   "metadata": {},
   "outputs": [
    {
     "name": "stdout",
     "output_type": "stream",
     "text": [
      "inner2\n"
     ]
    }
   ],
   "source": [
    "p[1]()"
   ]
  },
  {
   "cell_type": "code",
   "execution_count": 51,
   "id": "9b5519c0",
   "metadata": {},
   "outputs": [],
   "source": [
    "def outer(f):\n",
    "    def inner():\n",
    "        result=f()\n",
    "        return result**2\n",
    "    return inner"
   ]
  },
  {
   "cell_type": "code",
   "execution_count": 52,
   "id": "1d411bce",
   "metadata": {},
   "outputs": [],
   "source": [
    "def num():\n",
    "    return 5"
   ]
  },
  {
   "cell_type": "code",
   "execution_count": 53,
   "id": "b9223103",
   "metadata": {},
   "outputs": [],
   "source": [
    "r = outer(num)"
   ]
  },
  {
   "cell_type": "code",
   "execution_count": 54,
   "id": "0c7afaaa",
   "metadata": {},
   "outputs": [
    {
     "data": {
      "text/plain": [
       "25"
      ]
     },
     "execution_count": 54,
     "metadata": {},
     "output_type": "execute_result"
    }
   ],
   "source": [
    "r()"
   ]
  },
  {
   "cell_type": "code",
   "execution_count": 55,
   "id": "9aed2cc3",
   "metadata": {},
   "outputs": [],
   "source": [
    "@outer\n",
    "def num():\n",
    "    return 5"
   ]
  },
  {
   "cell_type": "code",
   "execution_count": 56,
   "id": "d9574f82",
   "metadata": {},
   "outputs": [
    {
     "data": {
      "text/plain": [
       "25"
      ]
     },
     "execution_count": 56,
     "metadata": {},
     "output_type": "execute_result"
    }
   ],
   "source": [
    "num()"
   ]
  },
  {
   "cell_type": "code",
   "execution_count": 57,
   "id": "7563220c",
   "metadata": {},
   "outputs": [],
   "source": [
    "def outer(f):\n",
    "    def inner(n1,n2):\n",
    "        result=f(n1,n2)\n",
    "        return result**2\n",
    "    return inner"
   ]
  },
  {
   "cell_type": "code",
   "execution_count": 58,
   "id": "cca64cb2",
   "metadata": {},
   "outputs": [],
   "source": [
    "@outer\n",
    "def num(n1,n2):\n",
    "    return n1+n2+5"
   ]
  },
  {
   "cell_type": "code",
   "execution_count": 59,
   "id": "f78265c1",
   "metadata": {},
   "outputs": [
    {
     "data": {
      "text/plain": [
       "196"
      ]
     },
     "execution_count": 59,
     "metadata": {},
     "output_type": "execute_result"
    }
   ],
   "source": [
    "num(5,4)"
   ]
  },
  {
   "cell_type": "code",
   "execution_count": 60,
   "id": "4d127487",
   "metadata": {},
   "outputs": [],
   "source": [
    "def validate(func):\n",
    "    def validator(*args, **kwargs):\n",
    "        if len(args)>1:\n",
    "            if args[1]==0:\n",
    "                print(\"Please enter non zero!\")\n",
    "                return None\n",
    "            else:\n",
    "                power = func(args[0],args[1])\n",
    "                return power\n",
    "        else:\n",
    "            print(\"Invalid args!\")\n",
    "    return validator\n",
    "                "
   ]
  },
  {
   "cell_type": "code",
   "execution_count": 61,
   "id": "55121354",
   "metadata": {},
   "outputs": [],
   "source": [
    "import math"
   ]
  },
  {
   "cell_type": "code",
   "execution_count": 62,
   "id": "1a727496",
   "metadata": {},
   "outputs": [],
   "source": [
    "@validate\n",
    "def mypower(x,y):\n",
    "    return math.pow(x,y)"
   ]
  },
  {
   "cell_type": "code",
   "execution_count": 63,
   "id": "7687ecc9",
   "metadata": {},
   "outputs": [
    {
     "data": {
      "text/plain": [
       "100.0"
      ]
     },
     "execution_count": 63,
     "metadata": {},
     "output_type": "execute_result"
    }
   ],
   "source": [
    "mypower(10,2)"
   ]
  },
  {
   "cell_type": "code",
   "execution_count": 1,
   "id": "718f81ed",
   "metadata": {},
   "outputs": [
    {
     "data": {
      "text/plain": [
       "[2, 4, 6, 8]"
      ]
     },
     "execution_count": 1,
     "metadata": {},
     "output_type": "execute_result"
    }
   ],
   "source": [
    "l1 = [1,2,3,4,5,6,7,8]\n",
    "list(filter(lambda x: x%2==0, l1))"
   ]
  },
  {
   "cell_type": "code",
   "execution_count": 5,
   "id": "f65c3e79",
   "metadata": {},
   "outputs": [
    {
     "data": {
      "text/plain": [
       "[1, 8, 27, 64, 125, 216, 343, 512]"
      ]
     },
     "execution_count": 5,
     "metadata": {},
     "output_type": "execute_result"
    }
   ],
   "source": [
    "l1 = [1,2,3,4,5,6,7,8]\n",
    "list(map(lambda x: pow(x,3), l1))"
   ]
  },
  {
   "cell_type": "code",
   "execution_count": 6,
   "id": "82868d40",
   "metadata": {},
   "outputs": [],
   "source": [
    "def a_decorator_passing_arbitrary_arguments(function_to_decorate):\n",
    "    def a_wrapper_accepting_arbitrary_arguments(*args, **kwargs):\n",
    "        print(\"The positional arguments are\",args)\n",
    "        print(\"The keyword arguments are \",kwargs)\n",
    "        function_to_decorate(*args)\n",
    "    return a_wrapper_accepting_arbitrary_arguments\n",
    "\n",
    "@a_decorator_passing_arbitrary_arguments\n",
    "def function_with_no_arguments():\n",
    "    print(\"No arguments here\")"
   ]
  },
  {
   "cell_type": "code",
   "execution_count": 7,
   "id": "2a34effd",
   "metadata": {},
   "outputs": [
    {
     "name": "stdout",
     "output_type": "stream",
     "text": [
      "The positional arguments are ()\n",
      "The keyword arguments are  {}\n",
      "No arguments here\n"
     ]
    }
   ],
   "source": [
    "function_with_no_arguments()"
   ]
  },
  {
   "cell_type": "code",
   "execution_count": 8,
   "id": "f55023b0",
   "metadata": {},
   "outputs": [
    {
     "name": "stdout",
     "output_type": "stream",
     "text": [
      "Positional arguments are (10, 20, 30)\n",
      "keyword arguments are {}\n",
      "10 20 30\n"
     ]
    }
   ],
   "source": [
    "def accept_the_arguments(function_to_decorate):\n",
    "    def inner_function(*args, **kwargs):\n",
    "        print(\"Positional arguments are\", args)\n",
    "        print(\"keyword arguments are\", kwargs)\n",
    "        function_to_decorate(*args)\n",
    "    return inner_function\n",
    "\n",
    "@accept_the_arguments\n",
    "def function_with_args(a,b,c):\n",
    "    print(a,b,c)\n",
    "    \n",
    "function_with_args(10,20,30)"
   ]
  },
  {
   "cell_type": "code",
   "execution_count": 11,
   "id": "47d97e71",
   "metadata": {},
   "outputs": [],
   "source": [
    "\n",
    "def accepting_kwargs(function_to_decorate):\n",
    "    def inner_function(*args, **kwargs):\n",
    "        print(\"args values\",args)\n",
    "        print(\"positional args\", kwargs)\n",
    "        function_to_decorate(*args,**kwargs)\n",
    "    return inner_function\n",
    "\n",
    "@accepting_kwargs\n",
    "def function_with_args(*args,**kwargs):\n",
    "    print(\"Inside function args\", args)\n",
    "    print(\"kwargs...\", kwargs)"
   ]
  },
  {
   "cell_type": "code",
   "execution_count": 12,
   "id": "b2112dab",
   "metadata": {},
   "outputs": [
    {
     "name": "stdout",
     "output_type": "stream",
     "text": [
      "args values (1, 2, 3)\n",
      "positional args {'name': 'Prem', 'address': 'Pune'}\n",
      "Inside function args (1, 2, 3)\n",
      "kwargs... {'name': 'Prem', 'address': 'Pune'}\n"
     ]
    }
   ],
   "source": [
    "function_with_args(1,2,3,name=\"Prem\", address=\"Pune\")"
   ]
  },
  {
   "cell_type": "code",
   "execution_count": 13,
   "id": "58f907ea",
   "metadata": {},
   "outputs": [],
   "source": [
    "#passing arguments to decorator\n",
    "\n",
    "def decorator_with_args(decorator_args1, decorator_args2, decorator_args3):\n",
    "    def decorator(func):\n",
    "        def wrapper(function_args1,function_args2,function_args3):\n",
    "            print(\"The wrapper can access all the variables\\n\"\n",
    "                  \"\\t from the decorator maker: {0}{1}{2}\\n\"\n",
    "                  \"\\t from the function call : {0}{1}{2}\\n\"\n",
    "                  \" and pass them into decorator function\".format(decorator_args1,decorator_args2,decorator_args3,\n",
    "                                                                  function_args1,function_args2,function_args3))\n",
    "            return func(function_args1,function_args2,function_args3)\n",
    "        return wrapper\n",
    "    return decorator\n",
    "\n",
    "pandas = \"pandas\"\n",
    "@decorator_with_args(pandas,\"numpy\", \"Scikit\")\n",
    "def actual_function(function_args1,function_args2,function_args3):\n",
    "    print(\"This is decorated function and it inly knows about it's args {0}{1}{2}\".format(function_args1,\n",
    "                                                                                         function_args2,\n",
    "                                                                                         function_args3))\n",
    "        "
   ]
  },
  {
   "cell_type": "code",
   "execution_count": 15,
   "id": "ad0980a8",
   "metadata": {},
   "outputs": [
    {
     "name": "stdout",
     "output_type": "stream",
     "text": [
      "The wrapper can access all the variables\n",
      "\t from the decorator maker: pandasnumpyScikit\n",
      "\t from the function call : pandasnumpyScikit\n",
      " and pass them into decorator function\n",
      "This is decorated function and it inly knows about it's args  john science tool\n"
     ]
    }
   ],
   "source": [
    "actual_function(\" john\", \" science\", \" tool\")"
   ]
  },
  {
   "cell_type": "code",
   "execution_count": 18,
   "id": "ca5a7de9",
   "metadata": {},
   "outputs": [
    {
     "name": "stdout",
     "output_type": "stream",
     "text": [
      "4\n"
     ]
    }
   ],
   "source": [
    "def count_digit(num):\n",
    "    count = 0\n",
    "    for i in str(num):\n",
    "        count += 1\n",
    "    return count\n",
    "\n",
    "print(count_digit(7896))\n"
   ]
  },
  {
   "cell_type": "code",
   "execution_count": 19,
   "id": "30b49455",
   "metadata": {},
   "outputs": [],
   "source": [
    "\n",
    "\n",
    "#Chaining of decorator\n",
    "\n",
    "from functools import wraps\n",
    "\n",
    "\n",
    "def decor1(func):\n",
    "    def inner():\n",
    "        x=func()\n",
    "        print(\"x in decor2\", x)\n",
    "        return x*x\n",
    "    return inner\n",
    "\n",
    "def decor(func):\n",
    "    def inner():\n",
    "        x=func()\n",
    "        print(\"x in decor 1st..\",x)\n",
    "        return 2*x\n",
    "    return inner\n",
    "\n",
    "@decor1\n",
    "@decor\n",
    "def num():\n",
    "    return 10\n",
    "        \n"
   ]
  },
  {
   "cell_type": "code",
   "execution_count": 20,
   "id": "a5153287",
   "metadata": {},
   "outputs": [
    {
     "name": "stdout",
     "output_type": "stream",
     "text": [
      "x in decor 1st.. 10\n",
      "x in decor2 20\n"
     ]
    },
    {
     "data": {
      "text/plain": [
       "400"
      ]
     },
     "execution_count": 20,
     "metadata": {},
     "output_type": "execute_result"
    }
   ],
   "source": [
    "num()"
   ]
  },
  {
   "cell_type": "code",
   "execution_count": 21,
   "id": "04161687",
   "metadata": {},
   "outputs": [],
   "source": [
    "#generator\n",
    "\n",
    "def simple_generator():\n",
    "        print(\"hi\")\n",
    "        yield 'Hello'\n",
    "        x=10\n",
    "        y=x+10\n",
    "        print(y)\n",
    "        yield 'Hello World'\n",
    "        yield x"
   ]
  },
  {
   "cell_type": "code",
   "execution_count": 33,
   "id": "390f90a0",
   "metadata": {},
   "outputs": [
    {
     "data": {
      "text/plain": [
       "<generator object simple_generator at 0x000002B1F7CF4F90>"
      ]
     },
     "execution_count": 33,
     "metadata": {},
     "output_type": "execute_result"
    }
   ],
   "source": [
    "ret = simple_generator()\n",
    "ret"
   ]
  },
  {
   "cell_type": "code",
   "execution_count": 34,
   "id": "349a4b9f",
   "metadata": {},
   "outputs": [
    {
     "name": "stdout",
     "output_type": "stream",
     "text": [
      "hi\n",
      "Hello\n",
      "20\n",
      "Hello World\n",
      "10\n"
     ]
    }
   ],
   "source": [
    "for val in ret:\n",
    "    print(val)"
   ]
  },
  {
   "cell_type": "code",
   "execution_count": 24,
   "id": "0eaedae6",
   "metadata": {},
   "outputs": [
    {
     "name": "stdout",
     "output_type": "stream",
     "text": [
      "hi\n",
      "20\n"
     ]
    },
    {
     "data": {
      "text/plain": [
       "['Hello', 'Hello World', 10]"
      ]
     },
     "execution_count": 24,
     "metadata": {},
     "output_type": "execute_result"
    }
   ],
   "source": [
    "list(ret)"
   ]
  },
  {
   "cell_type": "code",
   "execution_count": 32,
   "id": "6d27284e",
   "metadata": {},
   "outputs": [
    {
     "name": "stdout",
     "output_type": "stream",
     "text": [
      "hi\n"
     ]
    },
    {
     "data": {
      "text/plain": [
       "'Hello'"
      ]
     },
     "execution_count": 32,
     "metadata": {},
     "output_type": "execute_result"
    }
   ],
   "source": [
    "next(ret)"
   ]
  },
  {
   "cell_type": "code",
   "execution_count": 37,
   "id": "975b2907",
   "metadata": {},
   "outputs": [],
   "source": [
    "def fib(n):\n",
    "    num = []\n",
    "    f,s=0,1\n",
    "    while f<n:\n",
    "        num.append(f)\n",
    "        yield(f)\n",
    "        f,s = s,f+s\n",
    "    #print(num)\n",
    "        "
   ]
  },
  {
   "cell_type": "code",
   "execution_count": 48,
   "id": "bad11bd9",
   "metadata": {},
   "outputs": [],
   "source": [
    "res = fib(10)"
   ]
  },
  {
   "cell_type": "code",
   "execution_count": 49,
   "id": "9eb86e66",
   "metadata": {},
   "outputs": [
    {
     "data": {
      "text/plain": [
       "0"
      ]
     },
     "execution_count": 49,
     "metadata": {},
     "output_type": "execute_result"
    }
   ],
   "source": [
    "next(res)"
   ]
  },
  {
   "cell_type": "code",
   "execution_count": 50,
   "id": "dff35590",
   "metadata": {},
   "outputs": [],
   "source": [
    "\n",
    "\n",
    "def frange(start,stop,increment):\n",
    "    x=start\n",
    "    while x<stop:\n",
    "        yield x\n",
    "        x += increment\n"
   ]
  },
  {
   "cell_type": "code",
   "execution_count": 51,
   "id": "c9fad501",
   "metadata": {},
   "outputs": [
    {
     "name": "stdout",
     "output_type": "stream",
     "text": [
      "<class 'generator'>\n",
      "0\n",
      "0.5\n",
      "1.0\n",
      "1.5\n",
      "2.0\n",
      "2.5\n",
      "3.0\n",
      "3.5\n"
     ]
    }
   ],
   "source": [
    "c = frange(0,4,0.5)\n",
    "print(type(c))\n",
    "\n",
    "for n in frange(0,4,0.5):\n",
    "    print(n)"
   ]
  },
  {
   "cell_type": "code",
   "execution_count": 55,
   "id": "9fbe839a",
   "metadata": {},
   "outputs": [
    {
     "name": "stdout",
     "output_type": "stream",
     "text": [
      "('a', 'b', 'c')\n",
      "('a', 'c', 'b')\n",
      "('b', 'a', 'c')\n",
      "('b', 'c', 'a')\n",
      "('c', 'a', 'b')\n",
      "('c', 'b', 'a')\n"
     ]
    }
   ],
   "source": [
    "\n",
    "from itertools import permutations\n",
    "item = ['a','b','c']\n",
    "\n",
    "for i in permutations(item):\n",
    "    print(i)\n"
   ]
  },
  {
   "cell_type": "code",
   "execution_count": 61,
   "id": "f0faa762",
   "metadata": {},
   "outputs": [
    {
     "name": "stdout",
     "output_type": "stream",
     "text": [
      "('a', 'b', 'c')\n"
     ]
    }
   ],
   "source": [
    "from itertools import combinations\n",
    "item = ['a','b','c']\n",
    "\n",
    "for i in combinations(item,3):\n",
    "    print(i)"
   ]
  },
  {
   "cell_type": "code",
   "execution_count": 62,
   "id": "61e2fb06",
   "metadata": {},
   "outputs": [
    {
     "name": "stdout",
     "output_type": "stream",
     "text": [
      "0 a\n",
      "1 b\n",
      "2 c\n"
     ]
    }
   ],
   "source": [
    "mylist = ['a','b','c']\n",
    "for idx,val in enumerate(mylist):\n",
    "    print(idx,val)"
   ]
  },
  {
   "cell_type": "code",
   "execution_count": 63,
   "id": "896270b6",
   "metadata": {},
   "outputs": [
    {
     "name": "stdout",
     "output_type": "stream",
     "text": [
      "1 a\n",
      "2 b\n",
      "3 c\n"
     ]
    }
   ],
   "source": [
    "mylist = ['a','b','c']\n",
    "for idx,val in enumerate(mylist,1):\n",
    "    print(idx,val)"
   ]
  },
  {
   "cell_type": "code",
   "execution_count": 64,
   "id": "b5f22556",
   "metadata": {},
   "outputs": [
    {
     "name": "stdout",
     "output_type": "stream",
     "text": [
      "1 101\n",
      "2 102\n",
      "3 103\n",
      "4 104\n",
      "5 105\n"
     ]
    }
   ],
   "source": [
    "x = [1,2,3,4,5]\n",
    "y = [101,102,103,104,105]\n",
    "\n",
    "for i,j in zip(x,y):\n",
    "    print(i,j)"
   ]
  },
  {
   "cell_type": "code",
   "execution_count": 65,
   "id": "d1314fcd",
   "metadata": {},
   "outputs": [
    {
     "name": "stdout",
     "output_type": "stream",
     "text": [
      "{1: 101, 2: 102, 3: 103, 4: 104, 5: 105}\n"
     ]
    }
   ],
   "source": [
    "x = [1,2,3,4,5]\n",
    "y = [101,102,103,104,105]\n",
    "d = {}\n",
    "for i,j in zip(x,y):\n",
    "    d[i] = j\n",
    "print(d)"
   ]
  },
  {
   "cell_type": "code",
   "execution_count": 66,
   "id": "590a5584",
   "metadata": {},
   "outputs": [
    {
     "name": "stdout",
     "output_type": "stream",
     "text": [
      "(1, 'x')\n",
      "(2, 'y')\n",
      "(3, 'z')\n"
     ]
    }
   ],
   "source": [
    "x = [1,2,3]\n",
    "y = ['x','y','z','w']\n",
    "\n",
    "for i in zip(x,y):\n",
    "    print(i)"
   ]
  },
  {
   "cell_type": "code",
   "execution_count": 67,
   "id": "949d833f",
   "metadata": {},
   "outputs": [
    {
     "name": "stdout",
     "output_type": "stream",
     "text": [
      "(1, 'x')\n",
      "(2, 'y')\n",
      "(3, 'z')\n",
      "(None, 'w')\n"
     ]
    }
   ],
   "source": [
    "from itertools import zip_longest\n",
    "x = [1,2,3]\n",
    "y = ['x','y','z','w']\n",
    "\n",
    "for i in zip_longest(x,y):\n",
    "    print(i)"
   ]
  },
  {
   "cell_type": "code",
   "execution_count": 68,
   "id": "53c42c15",
   "metadata": {},
   "outputs": [
    {
     "name": "stdout",
     "output_type": "stream",
     "text": [
      "(1, 'x', 10)\n",
      "(2, 'y', 20)\n",
      "(3, 'z', 30)\n"
     ]
    }
   ],
   "source": [
    "x = [1,2,3]\n",
    "y = ['x','y','z']\n",
    "z = [10,20,30]\n",
    "\n",
    "for i in zip(x,y,z):\n",
    "    print(i)"
   ]
  },
  {
   "cell_type": "code",
   "execution_count": 69,
   "id": "11e32ef8",
   "metadata": {},
   "outputs": [
    {
     "name": "stdout",
     "output_type": "stream",
     "text": [
      "1\n",
      "2\n",
      "3\n",
      "x\n",
      "y\n",
      "z\n",
      "10\n",
      "20\n",
      "30\n"
     ]
    }
   ],
   "source": [
    "from itertools import chain\n",
    "for x in chain(x,y,z):\n",
    "    print(x)"
   ]
  },
  {
   "cell_type": "code",
   "execution_count": 74,
   "id": "2f362c29",
   "metadata": {},
   "outputs": [],
   "source": [
    "from collections import Iterable\n",
    "\n",
    "def  flatten(items,ignore_types=(str, bytes)):\n",
    "    for x in items:\n",
    "        if isinstance(x,Iterable) and not isinstance(x,ignore_types):\n",
    "            yield from flatten(x)\n",
    "        else:\n",
    "            yield x"
   ]
  },
  {
   "cell_type": "code",
   "execution_count": 75,
   "id": "a645aa5c",
   "metadata": {},
   "outputs": [
    {
     "name": "stdout",
     "output_type": "stream",
     "text": [
      "1\n",
      "2\n",
      "3\n",
      "4\n",
      "5\n",
      "6\n",
      "7\n",
      "8\n"
     ]
    }
   ],
   "source": [
    "items = [1,2,[3,4,[5,6],7],8]\n",
    "for x in flatten(items):\n",
    "    print(x)"
   ]
  },
  {
   "cell_type": "code",
   "execution_count": 76,
   "id": "0b5707b7",
   "metadata": {},
   "outputs": [
    {
     "name": "stdout",
     "output_type": "stream",
     "text": [
      "john\n",
      "ale\n",
      "fred\n",
      "8\n"
     ]
    }
   ],
   "source": [
    "items = ['john',['ale', 'fred'],8]\n",
    "for x in flatten(items):\n",
    "    print(x)"
   ]
  },
  {
   "cell_type": "code",
   "execution_count": 1,
   "id": "6a20b0ea",
   "metadata": {},
   "outputs": [],
   "source": [
    "with open(\"Sample.txt\",\"wt\") as f:\n",
    "    f.write(\"Hi\")\n",
    "    f.write(\"Hello\")"
   ]
  },
  {
   "cell_type": "code",
   "execution_count": 2,
   "id": "a9be13d8",
   "metadata": {},
   "outputs": [
    {
     "name": "stdout",
     "output_type": "stream",
     "text": [
      "HiHello\n"
     ]
    }
   ],
   "source": [
    "f = open(\"Sample.txt\", \"rt\")\n",
    "data=f.read()\n",
    "f.close()\n",
    "print(data)"
   ]
  },
  {
   "cell_type": "code",
   "execution_count": 9,
   "id": "c7cb5481",
   "metadata": {},
   "outputs": [],
   "source": [
    "import gzip\n",
    "with gzip.open(\"sample-new\",\"wt\") as f:\n",
    "    f.write(\"Text compression\")"
   ]
  },
  {
   "cell_type": "code",
   "execution_count": 6,
   "id": "75191847",
   "metadata": {},
   "outputs": [],
   "source": [
    "import bz2\n",
    "with bz2.open(\"sample-bz\",\"wt\") as f:\n",
    "    f.write(\"Text compression\")"
   ]
  },
  {
   "cell_type": "code",
   "execution_count": 10,
   "id": "6b0b463e",
   "metadata": {},
   "outputs": [
    {
     "name": "stdout",
     "output_type": "stream",
     "text": [
      "text :  Text compression\n"
     ]
    }
   ],
   "source": [
    "import gzip\n",
    "with gzip.open(\"sample-new\",\"rt\") as f:\n",
    "    text = f.read()\n",
    "    print(\"text : \", text)\n",
    "    \n",
    "    \n",
    "    "
   ]
  },
  {
   "cell_type": "code",
   "execution_count": 6,
   "id": "e7166708",
   "metadata": {},
   "outputs": [
    {
     "name": "stdout",
     "output_type": "stream",
     "text": [
      "Average price for 898.0 is 898.0\n",
      "Average price for 624.7 is 639.0\n",
      "Average price for 561.65 is 621.9\n",
      "Average price for 619.4 is 619.4\n",
      "Average price for 605.4 is 607.0\n",
      "Average price for 605.5 is 615.0\n",
      "Average price for 596.0 is 602.0\n",
      "Average price for 597.85 is 597.85\n",
      "Average price for 553.0 is 588.8\n",
      "Average price for 567.0 is 574.7\n",
      "Average price for 575.0 is 575.0\n",
      "Average price for 575.5 is 575.5\n",
      "Average price for 560.0 is 560.0\n",
      "Average price for 511.0 is 527.0\n",
      "Average price for 514.25 is 525.0\n",
      "Average price for 510.0 is 528.5\n",
      "Average price for 490.45 is 510.0\n",
      "Average price for 510.1 is 531.0\n",
      "Average price for 500.2 is 527.0\n",
      "Average price for 507.0 is 537.0\n",
      "Average price for 500.0 is 507.3\n",
      "Average price for 495.0 is 506.0\n",
      "Average price for 450.0 is 497.0\n",
      "Average price for 519.9 is 519.9\n",
      "Average price for 465.9 is 476.85\n",
      "Average price for 454.0 is 459.95\n",
      "Average price for 430.15 is 457.95\n",
      "Average price for 445.0 is 448.0\n",
      "Average price for 403.5 is 433.0\n",
      "Average price for 425.0 is 438.27\n",
      "Average price for 418.1 is 439.9\n",
      "Average price for 446.0 is 456.9\n",
      "Average price for 508.0 is 508.1\n",
      "Average price for 515.0 is 515.0\n",
      "Average price for 480.35 is 497.8\n",
      "Average price for 475.0 is 484.95\n",
      "Average price for 461.0 is 473.0\n",
      "Average price for 474.0 is 489.5\n",
      "Average price for 490.15 is 504.0\n",
      "Average price for 514.15 is 529.0\n",
      "Average price for 506.2 is 534.0\n",
      "Average price for 503.25 is 525.0\n",
      "Average price for 500.25 is 524.7\n",
      "Average price for 506.0 is 515.0\n",
      "Average price for 483.95 is 524.95\n",
      "Average price for 501.15 is 539.0\n",
      "Average price for 516.0 is 532.9\n",
      "Average price for 510.05 is 524.0\n",
      "Average price for 505.7 is 530.0\n",
      "Average price for 525.1 is 571.4\n",
      "Average price for 566.0 is 574.4\n",
      "Average price for 551.2 is 569.0\n",
      "Average price for 554.0 is 577.0\n",
      "Average price for 569.85 is 574.9\n",
      "Average price for 543.0 is 575.0\n",
      "Average price for 562.05 is 571.0\n",
      "Average price for 554.85 is 560.0\n",
      "Average price for 554.8 is 554.85\n",
      "Average price for 537.15 is 573.0\n",
      "Average price for 535.0 is 596.0\n",
      "Average price for 506.1 is 543.0\n",
      "Average price for 570.0 is 570.0\n",
      "Average price for 541.0 is 550.0\n",
      "Average price for 554.9 is 585.0\n",
      "Average price for 576.0 is 590.0\n",
      "Average price for 578.0 is 586.4\n",
      "Average price for 584.3 is 590.0\n",
      "Average price for 594.3 is 608.0\n",
      "Average price for 593.6 is 618.0\n",
      "Average price for 609.55 is 614.95\n",
      "Average price for 612.0 is 618.9\n",
      "Average price for 587.15 is 605.0\n",
      "Average price for 590.0 is 611.38\n",
      "Average price for 616.0 is 622.0\n",
      "Average price for 619.95 is 641.9\n",
      "Average price for 606.7 is 624.45\n",
      "Average price for 605.25 is 622.5\n",
      "Average price for 609.1 is 625.0\n",
      "Average price for 572.0 is 629.5\n",
      "Average price for 625.0 is 630.33\n",
      "Average price for 606.0 is 618.95\n",
      "Average price for 611.8 is 611.8\n",
      "Average price for 593.5 is 611.0\n",
      "Average price for 569.95 is 609.9\n",
      "Average price for 586.5 is 599.8\n",
      "Average price for 548.0 is 609.9\n",
      "Average price for 601.0 is 617.0\n",
      "Average price for 581.35 is 598.7\n",
      "Average price for 556.0 is 600.0\n",
      "Average price for 579.05 is 601.0\n",
      "Average price for 555.0 is 567.48\n",
      "Average price for 501.1 is 524.9\n",
      "Average price for 457.0 is 527.9\n",
      "Average price for 527.0 is 590.65\n",
      "Average price for 523.05 is 545.0\n",
      "Average price for 499.3 is 550.0\n",
      "Average price for 515.15 is 549.85\n",
      "Average price for 544.0 is 560.0\n",
      "Average price for 536.0 is 565.0\n",
      "Average price for 543.5 is 563.9\n",
      "Average price for 526.0 is 544.8\n",
      "Average price for 516.05 is 526.0\n",
      "Average price for 455.05 is 480.0\n",
      "Average price for 551.9 is 551.9\n",
      "Average price for 550.0 is 559.0\n",
      "Average price for 480.0 is 491.62\n",
      "Average price for 435.0 is 435.0\n",
      "Average price for 420.0 is 423.6\n",
      "Average price for 416.0 is 434.5\n",
      "Average price for 404.0 is 405.32\n",
      "Average price for 371.0 is 371.0\n",
      "Average price for 364.9 is 375.0\n",
      "Average price for 350.0 is 361.0\n",
      "Average price for 360.0 is 364.0\n",
      "Average price for 342.0 is 343.0\n",
      "Average price for 354.0 is 354.0\n",
      "Average price for 329.8 is 334.9\n",
      "Average price for 307.0 is 329.65\n",
      "Average price for 324.05 is 327.15\n",
      "Average price for 262.0 is 307.05\n",
      "Average price for 311.9 is 311.9\n",
      "Average price for 304.8 is 316.5\n",
      "Average price for 306.2 is 316.75\n",
      "Average price for 330.7 is 340.9\n",
      "Average price for 339.75 is 351.0\n",
      "Average price for 335.35 is 358.0\n",
      "Average price for 353.0 is 417.0\n",
      "Average price for 419.0 is 419.0\n",
      "Average price for 400.0 is 440.0\n",
      "Average price for 420.95 is 429.0\n",
      "Average price for 382.3 is 418.85\n",
      "Average price for 408.0 is 421.75\n",
      "Average price for 412.0 is 420.0\n",
      "Average price for 402.5 is 414.0\n",
      "Average price for 396.5 is 403.0\n",
      "Average price for 388.5 is 396.0\n",
      "Average price for 389.0 is 389.0\n",
      "Average price for 397.0 is 397.0\n",
      "Average price for 390.05 is 397.9\n",
      "Average price for 407.0 is 411.0\n",
      "Average price for 409.4 is 420.0\n",
      "Average price for 411.15 is 475.7\n",
      "Average price for 430.25 is 440.0\n",
      "Average price for 432.0 is 439.9\n",
      "Average price for 390.0 is 439.7\n",
      "Average price for 411.25 is 436.0\n",
      "Average price for 448.4 is 448.4\n",
      "Average price for 436.0 is 440.0\n",
      "Average price for 426.0 is 479.9\n",
      "Average price for 490.0 is 490.0\n",
      "Average price for 458.2 is 458.2\n",
      "Average price for 468.0 is 477.7\n",
      "Average price for 464.05 is 475.0\n",
      "Average price for 450.05 is 465.95\n",
      "Average price for 455.0 is 468.0\n",
      "Average price for 470.0 is 495.55\n",
      "Average price for 472.5 is 484.65\n",
      "Average price for 467.0 is 475.0\n",
      "Average price for 453.0 is 460.0\n",
      "Average price for 446.1 is 460.0\n",
      "Average price for 459.0 is 462.85\n",
      "Average price for 469.85 is 477.0\n",
      "Average price for 456.1 is 468.7\n",
      "Average price for 460.0 is 484.0\n",
      "Average price for 483.0 is 490.0\n",
      "Average price for 475.8 is 491.5\n",
      "Average price for 455.1 is 477.95\n",
      "Average price for 501.05 is 509.0\n",
      "Average price for 489.0 is 501.8\n",
      "Average price for 484.95 is 499.0\n",
      "Average price for 487.0 is 503.93\n",
      "Average price for 534.6 is 538.5\n",
      "Average price for 525.25 is 535.0\n",
      "Average price for 503.65 is 503.65\n",
      "Average price for 490.05 is 509.0\n",
      "Average price for 485.0 is 493.0\n",
      "Average price for 494.0 is 500.0\n",
      "Average price for 496.0 is 520.0\n",
      "Average price for 540.0 is 540.0\n",
      "Average price for 525.0 is 538.0\n",
      "Average price for 526.1 is 547.0\n",
      "Average price for 546.0 is 584.95\n",
      "Average price for 588.0 is 607.85\n",
      "Average price for 584.95 is 628.0\n",
      "Average price for 613.5 is 635.0\n",
      "Average price for 617.0 is 636.0\n",
      "Average price for 615.1 is 640.0\n",
      "Average price for 624.35 is 639.1\n",
      "Average price for 635.0 is 644.9\n",
      "Average price for 641.0 is 679.5\n",
      "Average price for 632.0 is 652.0\n",
      "Average price for 643.0 is 651.9\n",
      "Average price for 613.0 is 628.7\n",
      "Average price for 641.25 is 665.0\n",
      "Average price for 662.0 is 676.0\n",
      "Average price for 665.0 is 689.8\n",
      "Average price for 645.0 is 663.0\n",
      "Average price for 647.0 is 661.05\n",
      "Average price for 622.0 is 641.0\n",
      "Average price for 620.1 is 651.0\n",
      "Average price for 642.0 is 679.9\n",
      "Average price for 664.0 is 695.0\n",
      "Average price for 670.0 is 695.0\n",
      "Average price for 684.7 is 706.0\n",
      "Average price for 694.5 is 699.9\n",
      "Average price for 685.0 is 694.5\n",
      "Average price for 676.0 is 695.0\n",
      "Average price for 684.0 is 739.0\n",
      "Average price for 732.0 is 807.0\n",
      "Average price for 801.0 is 809.0\n",
      "Average price for 810.0 is 912.0\n",
      "Average price for 898.5 is 974.0\n",
      "Average price for 866.1 is 899.0\n",
      "Average price for 870.0 is 944.5\n",
      "Average price for 910.0 is 989.95\n",
      "Average price for 930.0 is 955.0\n",
      "Average price for 975.0 is 1000.0\n",
      "Average price for 916.6 is 974.95\n",
      "Average price for 968.1 is 1060.0\n",
      "Average price for 1028.5 is 1111.0\n",
      "Average price for 1064.8 is 1110.0\n",
      "Average price for 1099.95 is 1136.5\n",
      "Average price for 1117.0 is 1129.5\n",
      "Average price for 1150.0 is 1163.38\n",
      "Average price for 1124.85 is 1129.85\n",
      "Average price for 1070.0 is 1079.45\n",
      "Average price for 1089.95 is 1111.0\n",
      "Average price for 1067.0 is 1090.0\n",
      "Average price for 1040.0 is 1079.8\n",
      "Average price for 1001.15 is 1020.0\n",
      "Average price for 1001.0 is 1001.0\n",
      "Average price for 986.05 is 1027.5\n",
      "Average price for 992.0 is 1030.0\n",
      "Average price for 990.1 is 998.0\n",
      "Average price for 970.15 is 979.0\n",
      "Average price for 953.45 is 958.45\n",
      "Average price for 940.0 is 987.0\n",
      "Average price for 966.05 is 989.7\n",
      "Average price for 994.0 is 1025.0\n",
      "Average price for 995.0 is 1056.0\n",
      "Average price for 1030.1 is 1056.65\n",
      "Average price for 990.6 is 1021.9\n",
      "Average price for 1008.4 is 1008.4\n",
      "Average price for 969.9 is 1005.0\n",
      "Average price for 965.0 is 1004.5\n",
      "Average price for 985.0 is 1014.8\n",
      "Average price for 973.0 is 1010.0\n",
      "Average price for 1010.0 is 1031.9\n",
      "Average price for 1008.0 is 1034.9\n",
      "Average price for 1026.0 is 1090.0\n",
      "Average price for 1075.0 is 1122.95\n",
      "Average price for 1115.0 is 1211.0\n",
      "Average price for 1159.0 is 1205.0\n",
      "Average price for 1175.0 is 1196.5\n",
      "Average price for 1195.0 is 1200.0\n",
      "Average price for 1191.8 is 1228.0\n",
      "Average price for 1179.5 is 1187.5\n",
      "Average price for 1180.0 is 1207.85\n",
      "Average price for 1184.0 is 1228.0\n",
      "Average price for 1210.0 is 1225.7\n",
      "Average price for 1219.0 is 1219.0\n",
      "Average price for 1285.0 is 1302.5\n",
      "Average price for 1238.0 is 1264.4\n",
      "Average price for 1225.65 is 1358.0\n",
      "Average price for 1308.0 is 1348.0\n",
      "Average price for 1328.85 is 1350.0\n",
      "Average price for 1286.65 is 1299.95\n",
      "Average price for 1235.0 is 1249.7\n",
      "Average price for 1200.0 is 1243.5\n",
      "Average price for 1077.0 is 1127.95\n",
      "Average price for 1076.1 is 1125.0\n",
      "Average price for 1105.0 is 1149.0\n",
      "Average price for 1131.0 is 1167.0\n",
      "Average price for 1100.0 is 1142.67\n",
      "Average price for 1130.0 is 1146.85\n",
      "Average price for 1131.5 is 1149.3\n",
      "Average price for 1125.0 is 1146.8\n",
      "Average price for 1144.8 is 1160.0\n",
      "Average price for 1137.0 is 1168.9\n",
      "Average price for 1169.0 is 1219.0\n",
      "Average price for 1205.0 is 1220.0\n",
      "Average price for 1221.0 is 1254.0\n",
      "Average price for 1203.0 is 1267.65\n",
      "Average price for 1197.9 is 1224.65\n",
      "Average price for 1222.0 is 1239.1\n",
      "Average price for 1237.0 is 1278.0\n",
      "Average price for 1280.0 is 1290.25\n",
      "Average price for 1240.0 is 1260.0\n",
      "Average price for 1220.0 is 1255.0\n",
      "Average price for 1252.0 is 1285.0\n",
      "Average price for 1282.0 is 1306.0\n",
      "Average price for 1301.55 is 1385.0\n",
      "Average price for 1380.0 is 1419.7\n",
      "Average price for 1395.0 is 1415.65\n",
      "Average price for 1413.0 is 1463.25\n",
      "Average price for 1430.0 is 1462.24\n",
      "Average price for 1509.0 is 1515.65\n",
      "Average price for 1479.0 is 1482.4\n",
      "Average price for 1460.0 is 1477.85\n",
      "Average price for 1301.0 is 1398.4\n",
      "Average price for 1447.9 is 1500.0\n",
      "Average price for 1505.0 is 1548.19\n",
      "Average price for 1503.0 is 1523.95\n",
      "Average price for 1487.85 is 1500.58\n",
      "Average price for 1502.0 is 1514.93\n",
      "Average price for 1540.0 is 1548.05\n",
      "Average price for 1560.0 is 1599.63\n",
      "Average price for 1599.0 is 1625.32\n",
      "Average price for 1636.6 is 1665.0\n",
      "Average price for 1650.0 is 1683.12\n",
      "Average price for 1562.0 is 1592.5\n",
      "Average price for 1485.95 is 1506.25\n",
      "Average price for 1503.7 is 1522.9\n",
      "Average price for 1508.8 is 1508.8\n",
      "Average price for 1467.0 is 1479.7\n",
      "Average price for 1465.3 is 1490.0\n",
      "Average price for 1471.0 is 1484.0\n",
      "Average price for 1445.0 is 1487.75\n",
      "Average price for 1440.0 is 1456.73\n",
      "Average price for 1400.0 is 1421.55\n",
      "Average price for 1414.0 is 1469.0\n",
      "Average price for 1478.0 is 1482.68\n",
      "Average price for 1442.5 is 1459.35\n",
      "Average price for 1475.85 is 1505.0\n",
      "Average price for 1500.0 is 1520.22\n",
      "Average price for 1460.1 is 1480.0\n",
      "Average price for 1467.95 is 1480.9\n",
      "Average price for 1455.0 is 1473.88\n",
      "Average price for 1469.9 is 1538.0\n",
      "Average price for 1525.0 is 1542.31\n",
      "Average price for 1524.95 is 1535.0\n",
      "Average price for 1518.7 is 1524.8\n",
      "Average price for 1504.6 is 1521.0\n",
      "Average price for 1511.0 is 1516.0\n",
      "Average price for 1513.0 is 1527.0\n",
      "Average price for 1512.0 is 1553.0\n",
      "Average price for 1548.0 is 1602.0\n",
      "Average price for 1531.0 is 1598.0\n",
      "Average price for 1598.0 is 1609.62\n",
      "Average price for 1592.0 is 1649.0\n",
      "Average price for 1660.0 is 1686.35\n",
      "Average price for 1700.0 is 1721.55\n",
      "Average price for 1696.0 is 1697.0\n",
      "Average price for 1670.8 is 1678.45\n",
      "Average price for 1632.0 is 1652.0\n",
      "Average price for 1680.0 is 1712.72\n",
      "Average price for 1641.0 is 1732.3\n",
      "Average price for 1725.0 is 1754.52\n",
      "Average price for 1788.0 is 1818.78\n",
      "Average price for 1742.0 is 1760.12\n",
      "Average price for 1735.2 is 1746.0\n",
      "Average price for 1705.0 is 1735.94\n",
      "Average price for 1665.8 is 1709.3\n",
      "Average price for 1717.0 is 1736.0\n",
      "Average price for 1712.0 is 1727.8\n",
      "Average price for 1685.1 is 1710.1\n",
      "Average price for 1675.0 is 1742.65\n",
      "Average price for 1765.0 is 1780.97\n",
      "Average price for 1748.8 is 1757.15\n",
      "Average price for 1750.0 is 1750.0\n",
      "Average price for 1723.0 is 1729.0\n",
      "Average price for 1684.1 is 1699.85\n",
      "Average price for 1663.0 is 1679.8\n",
      "Average price for 1694.0 is 1706.57\n",
      "Average price for 1714.0 is 1728.0\n",
      "Average price for 1715.0 is 1754.21\n",
      "Average price for 1735.0 is 1750.67\n",
      "Average price for 1749.9 is 1784.0\n",
      "Average price for 1789.9 is 1836.55\n",
      "Average price for 1805.25 is 1825.0\n",
      "Average price for 1780.0 is 1800.88\n",
      "Average price for 1786.2 is 1798.5\n",
      "Average price for 1731.0 is 1735.0\n",
      "Average price for 1698.0 is 1708.85\n",
      "Average price for 1670.0 is 1763.72\n",
      "Average price for 1747.7 is 1761.0\n",
      "Average price for 1739.95 is 1747.0\n",
      "Average price for 1699.0 is 1718.65\n",
      "Average price for 1704.5 is 1712.5\n",
      "Average price for 1683.0 is 1746.0\n",
      "Average price for 1730.0 is 1735.1\n",
      "Average price for 1703.7 is 1739.0\n",
      "Average price for 1737.0 is 1797.75\n",
      "Average price for 1785.0 is 1798.95\n",
      "Average price for 1790.0 is 1813.95\n",
      "Average price for 1810.0 is 1825.0\n",
      "Average price for 1800.0 is 1832.09\n",
      "Average price for 1845.2 is 1845.2\n",
      "Average price for 1830.0 is 1840.02\n",
      "Average price for 1722.0 is 1758.8\n",
      "Average price for 1712.45 is 1756.9\n",
      "Average price for 1729.45 is 1826.0\n",
      "Average price for 1827.8 is 1863.0\n",
      "Average price for 1850.0 is 1867.03\n",
      "Average price for 1880.0 is 1901.65\n",
      "Average price for 1899.0 is 1913.55\n",
      "Average price for 1910.5 is 1933.0\n",
      "Average price for 1901.7 is 1918.9\n",
      "Average price for 1866.0 is 1895.0\n",
      "Average price for 1849.9 is 1861.7\n",
      "Average price for 1833.35 is 1842.0\n",
      "Average price for 1841.45 is 1841.45\n",
      "Average price for 1824.0 is 1852.45\n",
      "Average price for 1872.0 is 1925.07\n",
      "Average price for 1860.0 is 1878.35\n",
      "Average price for 1902.0 is 1995.0\n",
      "Average price for 1970.0 is 2015.95\n",
      "Average price for 1990.0 is 2013.52\n",
      "Average price for 2005.0 is 2028.6\n",
      "Average price for 2011.0 is 2073.3\n",
      "Average price for 2101.05 is 2113.9\n",
      "Average price for 2045.0 is 2063.9\n",
      "Average price for 2067.0 is 2109.88\n",
      "Average price for 2078.0 is 2104.53\n",
      "Average price for 2082.7 is 2089.95\n",
      "Average price for 2075.0 is 2088.53\n",
      "Average price for 2100.0 is 2124.33\n",
      "Average price for 2080.0 is 2104.79\n",
      "Average price for 2042.0 is 2050.0\n",
      "Average price for 2004.2 is 2104.7\n",
      "Average price for 2085.25 is 2113.62\n",
      "Average price for 2091.8 is 2126.8\n",
      "Average price for 2116.0 is 2133.7\n",
      "Average price for 2100.2 is 2125.0\n",
      "Average price for 2097.0 is 2108.9\n",
      "Average price for 2015.0 is 2067.5\n",
      "Average price for 2084.95 is 2099.0\n",
      "Average price for 2099.0 is 2109.45\n",
      "Average price for 2095.0 is 2136.33\n",
      "Average price for 2129.7 is 2129.7\n",
      "Average price for 2041.15 is 2080.0\n",
      "Average price for 2073.55 is 2120.0\n",
      "Average price for 2050.0 is 2087.1\n",
      "Average price for 2132.0 is 2163.0\n",
      "Average price for 2126.0 is 2167.0\n",
      "Average price for 2172.25 is 2215.0\n",
      "Average price for 2210.0 is 2240.38\n",
      "Average price for 2170.0 is 2176.57\n",
      "Average price for 2165.0 is 2194.39\n",
      "Average price for 2174.6 is 2182.15\n",
      "Average price for 2096.0 is 2133.0\n",
      "Average price for 2140.0 is 2147.65\n",
      "Average price for 2030.0 is 2045.28\n",
      "Average price for 2048.0 is 2079.68\n",
      "Average price for 2082.75 is 2142.45\n",
      "Average price for 2145.0 is 2172.93\n",
      "Average price for 2206.5 is 2214.75\n",
      "Average price for 2164.1 is 2219.0\n",
      "Average price for 2224.0 is 2246.0\n",
      "Average price for 2198.0 is 2229.0\n",
      "Average price for 2168.0 is 2200.92\n",
      "Average price for 2180.0 is 2267.48\n",
      "Average price for 2202.0 is 2215.0\n",
      "Average price for 2194.4 is 2275.0\n",
      "Average price for 2299.0 is 2309.0\n",
      "Average price for 2265.5 is 2300.0\n",
      "Average price for 2294.05 is 2307.65\n",
      "Average price for 2265.6 is 2291.5\n",
      "Average price for 2295.0 is 2299.9\n",
      "Average price for 2291.55 is 2325.0\n",
      "Average price for 2290.0 is 2378.94\n",
      "Average price for 2330.65 is 2366.0\n",
      "Average price for 2327.6 is 2447.1\n",
      "Average price for 2439.0 is 2439.0\n",
      "Average price for 2405.0 is 2501.5\n",
      "Average price for 2458.0 is 2510.0\n",
      "Average price for 2450.0 is 2489.6\n",
      "Average price for 2491.0 is 2498.8\n",
      "Average price for 2411.25 is 2497.5\n",
      "Average price for 2429.2 is 2469.9\n",
      "Average price for 2435.0 is 2475.97\n",
      "Average price for 2414.45 is 2430.9\n",
      "Average price for 2418.75 is 2429.9\n",
      "Average price for 2410.0 is 2447.5\n",
      "Average price for 2449.0 is 2510.0\n",
      "Average price for 2425.0 is 2464.9\n",
      "Average price for 2400.0 is 2471.0\n",
      "Average price for 2417.0 is 2425.05\n",
      "Average price for 2402.15 is 2426.95\n",
      "Average price for 2426.0 is 2498.5\n",
      "Average price for 2520.8 is 2524.9\n",
      "Average price for 2490.0 is 2523.21\n",
      "Average price for 2529.0 is 2666.05\n",
      "Average price for 2660.0 is 2694.37\n",
      "Average price for 2712.0 is 2772.43\n",
      "Average price for 2688.0 is 2701.5\n",
      "Average price for 2700.0 is 2725.37\n",
      "Average price for 2735.0 is 2758.79\n",
      "Average price for 2718.0 is 2743.6\n",
      "Average price for 2729.0 is 2765.0\n",
      "Average price for 2722.0 is 2759.23\n",
      "Average price for 2710.2 is 2745.0\n",
      "Average price for 2718.8 is 2720.95\n",
      "Average price for 2669.0 is 2669.15\n",
      "Average price for 2550.0 is 2605.9\n",
      "Average price for 2640.0 is 2685.3\n",
      "Average price for 2665.0 is 2692.43\n",
      "Average price for 2671.5 is 2692.6\n",
      "Average price for 2704.0 is 2752.5\n",
      "Average price for 2748.95 is 2818.6\n",
      "Average price for 2800.0 is 2818.49\n",
      "Average price for 2780.0 is 2837.89\n",
      "Average price for 2849.0 is 2862.82\n",
      "Average price for 2819.0 is 2848.07\n",
      "Average price for 2773.2 is 2829.0\n",
      "Average price for 2812.0 is 2826.77\n",
      "Average price for 2800.05 is 2800.05\n",
      "Average price for 2765.0 is 2806.22\n",
      "Average price for 2799.25 is 2889.9\n",
      "Average price for 2895.0 is 3029.9\n",
      "Average price for 3040.0 is 3056.0\n",
      "Average price for 1501.3 is 1512.75\n",
      "Average price for 1487.3 is 1498.85\n",
      "Average price for 1468.0 is 1473.5\n",
      "Average price for 1475.0 is 1490.62\n",
      "Average price for 1475.65 is 1500.0\n",
      "Average price for 1475.05 is 1479.85\n",
      "Average price for 1458.0 is 1469.0\n",
      "Average price for 1448.0 is 1466.0\n",
      "Average price for 1458.4 is 1464.0\n",
      "Average price for 1449.0 is 1453.8\n",
      "Average price for 1435.0 is 1455.0\n",
      "Average price for 1453.0 is 1468.7\n",
      "Average price for 1459.0 is 1480.1\n",
      "Average price for 1499.0 is 1510.0\n",
      "Average price for 1483.9 is 1553.7\n",
      "Average price for 1534.75 is 1589.0\n",
      "Average price for 1600.0 is 1606.25\n",
      "Average price for 1604.1 is 1608.5\n",
      "Average price for 1580.0 is 1590.28\n",
      "Average price for 1553.35 is 1574.9\n",
      "Average price for 1560.05 is 1560.05\n",
      "Average price for 1534.0 is 1554.95\n",
      "Average price for 1543.35 is 1558.4\n",
      "Average price for 1522.9 is 1532.7\n",
      "Average price for 1508.0 is 1521.95\n",
      "Average price for 1504.9 is 1507.9\n",
      "Average price for 1496.0 is 1499.12\n",
      "Average price for 1498.0 is 1507.2\n",
      "Average price for 1470.5 is 1502.0\n",
      "Average price for 1497.0 is 1511.0\n",
      "Average price for 1535.0 is 1549.87\n",
      "Average price for 1525.1 is 1555.0\n",
      "Average price for 1590.0 is 1614.5\n",
      "Average price for 1615.0 is 1628.15\n",
      "Average price for 1622.85 is 1630.0\n",
      "Average price for 1603.0 is 1615.0\n",
      "Average price for 1612.0 is 1615.7\n",
      "Average price for 1587.0 is 1612.0\n",
      "Average price for 1551.0 is 1568.38\n",
      "Average price for 1566.0 is 1584.4\n",
      "Average price for 1566.5 is 1604.95\n",
      "Average price for 1589.0 is 1619.72\n",
      "Average price for 1638.45 is 1665.0\n",
      "Average price for 1616.0 is 1660.45\n",
      "Average price for 1634.0 is 1643.75\n",
      "Average price for 1602.5 is 1616.05\n",
      "Average price for 1591.0 is 1605.5\n",
      "Average price for 1576.1 is 1594.0\n",
      "Average price for 1593.0 is 1593.0\n",
      "Average price for 1569.0 is 1615.5\n",
      "Average price for 1602.05 is 1623.9\n",
      "Average price for 1560.15 is 1568.0\n",
      "Average price for 1521.0 is 1529.0\n",
      "Average price for 1455.1 is 1478.0\n",
      "Average price for 1465.0 is 1477.04\n",
      "Average price for 1457.65 is 1457.65\n",
      "Average price for 1450.0 is 1456.42\n",
      "Average price for 1466.0 is 1474.75\n",
      "Average price for 1470.1 is 1487.9\n",
      "Average price for 1491.0 is 1491.0\n",
      "Average price for 1485.0 is 1559.75\n",
      "Average price for 1557.0 is 1564.65\n",
      "Average price for 1383.2 is 1391.25\n",
      "Average price for 1330.0 is 1346.27\n",
      "Average price for 1327.9 is 1342.92\n",
      "Average price for 1273.0 is 1321.0\n",
      "Average price for 1316.0 is 1322.5\n",
      "Average price for 1292.0 is 1302.45\n",
      "Average price for 1286.1 is 1295.2\n",
      "Average price for 1244.0 is 1276.0\n",
      "Average price for 1270.25 is 1299.0\n",
      "Average price for 1293.0 is 1325.0\n",
      "Average price for 1322.1 is 1340.0\n",
      "Average price for 1302.0 is 1324.65\n",
      "Average price for 1327.0 is 1332.85\n",
      "Average price for 1315.0 is 1320.1\n",
      "Average price for 1310.0 is 1318.4\n",
      "Average price for 1289.0 is 1289.0\n",
      "Average price for 1250.0 is 1263.8\n",
      "Average price for 1269.6 is 1274.4\n",
      "Average price for 1254.0 is 1262.0\n",
      "Average price for 1214.0 is 1239.9\n",
      "Average price for 1230.0 is 1243.7\n",
      "Average price for 1226.0 is 1231.15\n",
      "Average price for 1190.0 is 1228.3\n",
      "Average price for 1265.0 is 1304.9\n",
      "Average price for 1307.4 is 1558.15\n",
      "Average price for 1335.0 is 1359.4\n",
      "Average price for 1351.25 is 1362.9\n",
      "Average price for 1336.0 is 1345.5\n",
      "Average price for 1326.0 is 1330.0\n",
      "Average price for 1306.0 is 1306.0\n",
      "Average price for 1276.7 is 1340.0\n",
      "Average price for 1384.8 is 1389.0\n",
      "Average price for 1368.0 is 1379.95\n",
      "Average price for 1372.0 is 1396.5\n",
      "Average price for 1399.0 is 1419.9\n",
      "Average price for 1409.7 is 1413.15\n",
      "Average price for 1370.05 is 1392.9\n",
      "Average price for 1354.1 is 1388.0\n",
      "Average price for 1381.85 is 1387.15\n",
      "Average price for 1362.0 is 1374.0\n",
      "Average price for 1358.5 is 1369.25\n",
      "Average price for 1361.9 is 1370.0\n",
      "Average price for 1363.0 is 1378.05\n",
      "Average price for 1362.55 is 1374.5\n",
      "Average price for 1370.0 is 1386.5\n",
      "Average price for 1390.0 is 1412.45\n",
      "Average price for 1419.9 is 1430.0\n",
      "Average price for 1433.0 is 1469.0\n",
      "Average price for 1472.0 is 1474.4\n",
      "Average price for 1458.7 is 1458.7\n",
      "Average price for 1459.95 is 1459.95\n",
      "Average price for 1448.9 is 1450.0\n",
      "Average price for 1410.0 is 1410.1\n",
      "Average price for 1376.0 is 1404.95\n",
      "Average price for 1395.25 is 1425.0\n",
      "Average price for 1430.2 is 1460.95\n",
      "Average price for 1480.0 is 1505.72\n",
      "Average price for 1477.0 is 1490.0\n",
      "Average price for 1489.9 is 1495.0\n",
      "Average price for 1476.55 is 1495.0\n",
      "Average price for 1473.0 is 1500.5\n",
      "Average price for 1478.3 is 1496.35\n",
      "Average price for 1426.15 is 1455.0\n",
      "Average price for 1304.0 is 1313.55\n",
      "Average price for 1290.0 is 1325.0\n",
      "Average price for 1297.0 is 1326.5\n",
      "Average price for 1315.8 is 1329.95\n",
      "Average price for 1318.8 is 1340.0\n",
      "Average price for 1310.1 is 1363.0\n",
      "Average price for 1328.9 is 1331.0\n",
      "Average price for 1317.1 is 1329.8\n",
      "Average price for 1300.0 is 1309.8\n",
      "Average price for 1298.0 is 1335.4\n",
      "Average price for 1320.0 is 1329.33\n",
      "Average price for 1309.0 is 1309.1\n",
      "Average price for 1299.0 is 1307.0\n",
      "Average price for 1346.2 is 1364.9\n",
      "Average price for 1325.0 is 1374.8\n",
      "Average price for 1375.0 is 1389.0\n",
      "Average price for 1360.0 is 1364.45\n",
      "Average price for 1351.0 is 1352.0\n",
      "Average price for 1338.5 is 1344.0\n",
      "Average price for 1334.9 is 1347.9\n",
      "Average price for 1345.25 is 1377.0\n",
      "Average price for 1378.0 is 1379.2\n",
      "Average price for 1365.0 is 1365.0\n",
      "Average price for 1340.25 is 1364.45\n",
      "Average price for 1333.0 is 1343.7\n",
      "Average price for 1325.65 is 1347.0\n",
      "Average price for 1344.0 is 1399.85\n",
      "Average price for 1340.0 is 1395.0\n",
      "Average price for 1391.0 is 1444.0\n",
      "Average price for 1389.7 is 1425.25\n",
      "Average price for 1394.0 is 1419.0\n",
      "Average price for 1414.8 is 1420.75\n",
      "Average price for 1432.1 is 1438.8\n",
      "Average price for 1452.8 is 1452.8\n",
      "Average price for 1425.9 is 1445.0\n",
      "Average price for 1417.0 is 1443.0\n",
      "Average price for 1462.5 is 1476.5\n",
      "Average price for 1460.05 is 1463.0\n",
      "Average price for 1440.5 is 1455.0\n",
      "Average price for 1415.3 is 1429.0\n",
      "Average price for 1425.65 is 1435.0\n",
      "Average price for 1428.7 is 1443.0\n",
      "Average price for 1427.0 is 1433.75\n",
      "Average price for 1449.4 is 1456.0\n",
      "Average price for 1446.0 is 1453.85\n",
      "Average price for 1425.0 is 1459.53\n",
      "Average price for 1433.5 is 1453.0\n",
      "Average price for 1447.0 is 1482.0\n",
      "Average price for 1472.5 is 1497.4\n",
      "Average price for 1479.45 is 1504.85\n",
      "Average price for 1461.1 is 1474.0\n",
      "Average price for 1397.0 is 1419.8\n",
      "Average price for 1362.25 is 1447.3\n",
      "Average price for 1359.0 is 1468.9\n",
      "Average price for 1441.0 is 1470.83\n",
      "Average price for 1450.25 is 1457.95\n",
      "Average price for 1429.8 is 1491.8\n",
      "Average price for 1559.0 is 1562.45\n",
      "Average price for 1520.25 is 1560.0\n",
      "Average price for 1515.0 is 1542.5\n",
      "Average price for 1639.0 is 1639.5\n",
      "Average price for 1624.0 is 1658.87\n",
      "Average price for 1645.7 is 1672.0\n",
      "Average price for 1638.2 is 1648.9\n",
      "Average price for 1628.0 is 1650.0\n",
      "Average price for 1606.0 is 1620.0\n",
      "Average price for 1584.95 is 1618.12\n",
      "Average price for 1605.0 is 1642.6\n",
      "Average price for 1635.0 is 1646.22\n",
      "Average price for 1630.25 is 1638.45\n",
      "Average price for 1629.85 is 1631.0\n",
      "Average price for 1607.0 is 1630.0\n",
      "Average price for 1628.15 is 1633.5\n",
      "Average price for 1595.0 is 1612.0\n",
      "Average price for 1545.85 is 1545.85\n",
      "Average price for 1530.0 is 1554.98\n",
      "Average price for 1519.5 is 1533.15\n",
      "Average price for 1501.9 is 1514.5\n",
      "Average price for 1517.4 is 1538.5\n",
      "Average price for 1495.1 is 1572.9\n",
      "Average price for 1568.0 is 1589.5\n",
      "Average price for 1585.0 is 1614.33\n",
      "Average price for 1586.5 is 1604.9\n",
      "Average price for 1586.3 is 1639.95\n",
      "Average price for 1648.0 is 1668.88\n",
      "Average price for 1643.0 is 1655.0\n",
      "Average price for 1629.0 is 1654.95\n",
      "Average price for 1662.0 is 1706.0\n",
      "Average price for 1755.25 is 1766.0\n",
      "Average price for 1799.7 is 1823.55\n",
      "Average price for 1763.0 is 1766.83\n",
      "Average price for 1728.4 is 1750.0\n",
      "Average price for 1728.25 is 1735.0\n",
      "Average price for 1769.0 is 1769.3\n",
      "Average price for 1738.0 is 1753.9\n",
      "Average price for 1757.0 is 1774.9\n",
      "Average price for 1710.0 is 1736.12\n",
      "Average price for 1681.5 is 1719.25\n",
      "Average price for 1629.95 is 1633.05\n",
      "Average price for 1601.8 is 1676.9\n",
      "Average price for 1647.0 is 1666.85\n",
      "Average price for 1695.25 is 1720.0\n",
      "Average price for 1715.4 is 1725.0\n",
      "Average price for 1714.9 is 1723.25\n",
      "Average price for 1723.9 is 1739.0\n",
      "Average price for 1719.0 is 1719.0\n",
      "Average price for 1612.35 is 1668.0\n",
      "Average price for 1638.0 is 1660.0\n",
      "Average price for 1653.0 is 1707.9\n",
      "Average price for 1650.75 is 1657.9\n",
      "Average price for 1654.95 is 1661.85\n",
      "Average price for 1630.0 is 1633.75\n",
      "Average price for 1620.0 is 1620.0\n",
      "Average price for 1599.1 is 1619.0\n",
      "Average price for 1626.0 is 1642.7\n",
      "Average price for 1599.95 is 1612.4\n",
      "Average price for 1477.7 is 1503.2\n",
      "Average price for 1451.65 is 1473.05\n",
      "Average price for 1468.9 is 1468.9\n",
      "Average price for 1425.95 is 1464.0\n",
      "Average price for 1436.9 is 1464.0\n",
      "Average price for 1463.0 is 1486.0\n",
      "Average price for 1427.1 is 1462.0\n",
      "Average price for 1466.5 is 1482.4\n",
      "Average price for 1470.0 is 1575.0\n",
      "Average price for 1561.35 is 1591.65\n",
      "Average price for 1534.95 is 1560.95\n",
      "Average price for 1569.75 is 1610.0\n",
      "Average price for 1621.0 is 1639.8\n",
      "Average price for 1620.3 is 1625.0\n",
      "Average price for 1609.0 is 1636.0\n",
      "Average price for 1633.9 is 1647.0\n",
      "Average price for 1640.0 is 1678.83\n",
      "Average price for 1709.0 is 1751.5\n",
      "Average price for 1736.05 is 1764.0\n",
      "Average price for 1753.35 is 1753.35\n",
      "Average price for 1745.0 is 1760.0\n",
      "Average price for 1727.9 is 1833.0\n",
      "Average price for 1820.0 is 1853.65\n",
      "Average price for 1790.25 is 1828.0\n",
      "Average price for 1795.0 is 1814.97\n",
      "Average price for 1791.0 is 1809.95\n",
      "Average price for 1760.0 is 1786.55\n",
      "Average price for 1775.0 is 1843.35\n",
      "Average price for 1803.45 is 1818.35\n",
      "Average price for 1798.0 is 1808.12\n",
      "Average price for 1755.0 is 1775.0\n",
      "Average price for 1690.0 is 1724.45\n",
      "Average price for 1718.95 is 1754.0\n",
      "Average price for 1766.0 is 1775.0\n",
      "Average price for 1787.05 is 1804.6\n",
      "Average price for 1798.5 is 1809.0\n",
      "Average price for 1758.0 is 1769.75\n",
      "Average price for 1736.1 is 1757.1\n",
      "Average price for 1715.05 is 1734.3\n",
      "Average price for 1732.95 is 1745.0\n",
      "Average price for 1685.0 is 1726.28\n",
      "Average price for 1720.0 is 1720.0\n",
      "Average price for 1673.0 is 1682.8\n",
      "Average price for 1668.0 is 1668.0\n",
      "Average price for 1636.0 is 1661.15\n",
      "Average price for 1687.0 is 1691.5\n",
      "Average price for 1664.0 is 1670.0\n",
      "Average price for 1629.2 is 1658.25\n",
      "Average price for 1658.7 is 1665.9\n",
      "Average price for 1650.8 is 1650.8\n",
      "Average price for 1635.2 is 1687.1\n",
      "Average price for 1644.8 is 1660.35\n",
      "Average price for 1726.0 is 1739.85\n",
      "Average price for 1718.55 is 1758.0\n",
      "Average price for 1710.1 is 1719.8\n",
      "Average price for 1665.4 is 1685.0\n",
      "Average price for 1642.1 is 1686.8\n",
      "Average price for 1648.5 is 1668.85\n",
      "Average price for 1610.0 is 1634.0\n",
      "Average price for 1594.9 is 1630.8\n",
      "Average price for 1586.0 is 1590.0\n",
      "Average price for 1495.0 is 1524.9\n",
      "Average price for 1527.05 is 1548.95\n",
      "Average price for 1490.0 is 1529.6\n",
      "Average price for 1577.0 is 1599.0\n",
      "Average price for 1582.25 is 1619.0\n",
      "Average price for 1535.2 is 1540.0\n",
      "Average price for 1469.0 is 1508.0\n",
      "Average price for 1507.15 is 1525.0\n",
      "Average price for 1526.0 is 1529.0\n",
      "Average price for 1482.65 is 1498.9\n",
      "Average price for 1550.0 is 1572.0\n",
      "Average price for 1532.25 is 1576.4\n",
      "Average price for 1558.0 is 1582.4\n",
      "Average price for 1570.0 is 1584.7\n",
      "Average price for 1547.9 is 1550.0\n",
      "Average price for 1539.5 is 1555.0\n",
      "Average price for 1531.8 is 1545.0\n",
      "Average price for 1524.0 is 1558.85\n",
      "Average price for 1546.25 is 1559.85\n",
      "Average price for 1549.75 is 1567.0\n",
      "Average price for 1562.4 is 1568.8\n",
      "Average price for 1571.0 is 1579.0\n",
      "Average price for 1575.0 is 1580.0\n",
      "Average price for 1552.3 is 1572.0\n",
      "Average price for 1552.0 is 1571.4\n",
      "Average price for 1553.0 is 1562.1\n",
      "Average price for 1510.0 is 1535.55\n",
      "Average price for 1520.0 is 1520.0\n",
      "Average price for 1495.2 is 1503.65\n",
      "Average price for 1523.05 is 1596.0\n",
      "Average price for 1545.0 is 1569.8\n",
      "Average price for 1565.0 is 1596.95\n",
      "Average price for 1596.95 is 1605.9\n",
      "Average price for 1607.7 is 1618.3\n",
      "Average price for 1590.25 is 1629.0\n",
      "Average price for 1614.0 is 1631.7\n",
      "Average price for 1611.05 is 1618.95\n",
      "Average price for 1628.9 is 1643.9\n",
      "Average price for 1667.0 is 1684.4\n",
      "Average price for 1713.0 is 1739.47\n",
      "Average price for 1703.0 is 1711.7\n",
      "Average price for 1708.7 is 1737.45\n",
      "Average price for 1727.0 is 1736.0\n",
      "Average price for 1708.95 is 1716.55\n",
      "Average price for 1728.8 is 1728.8\n",
      "Average price for 1625.0 is 1649.9\n",
      "Average price for 1630.05 is 1630.05\n",
      "Average price for 1618.0 is 1670.0\n",
      "Average price for 1642.0 is 1652.0\n",
      "Average price for 1654.0 is 1654.0\n",
      "Average price for 1687.4 is 1694.9\n",
      "Average price for 1676.0 is 1715.0\n",
      "Average price for 1720.5 is 1722.35\n",
      "Average price for 1695.0 is 1728.1\n",
      "Average price for 1725.1 is 1760.0\n",
      "Average price for 1750.3 is 1769.5\n",
      "Average price for 1746.7 is 1804.7\n",
      "Average price for 1800.6 is 1824.5\n",
      "Average price for 1811.0 is 1823.62\n",
      "Average price for 1766.1 is 1808.05\n",
      "Average price for 1801.0 is 1821.47\n",
      "Average price for 1829.0 is 1858.05\n",
      "Average price for 1839.0 is 1841.1\n",
      "Average price for 1794.0 is 1809.5\n",
      "Average price for 1784.0 is 1791.33\n",
      "Average price for 1751.0 is 1767.0\n",
      "Average price for 1740.0 is 1760.0\n",
      "Average price for 1732.1 is 1763.0\n",
      "Average price for 1755.3 is 1763.1\n",
      "Average price for 1760.2 is 1775.0\n",
      "Average price for 1773.0 is 1795.0\n",
      "Average price for 1783.0 is 1784.95\n",
      "Average price for 1762.0 is 1788.83\n",
      "Average price for 1818.0 is 1841.4\n",
      "Average price for 1855.0 is 1890.75\n",
      "Average price for 1888.0 is 1898.3\n",
      "Average price for 1852.25 is 1874.4\n",
      "Average price for 1846.25 is 1873.45\n",
      "Average price for 1847.0 is 1853.5\n",
      "Average price for 1846.0 is 1872.0\n",
      "Average price for 1875.0 is 1911.1\n",
      "Average price for 1856.0 is 1857.0\n",
      "Average price for 1830.1 is 1849.9\n",
      "Average price for 1835.8 is 1853.2\n",
      "Average price for 1815.0 is 1861.3\n",
      "Average price for 1859.95 is 1862.5\n",
      "Average price for 1826.0 is 1840.6\n",
      "Average price for 1823.0 is 1844.95\n",
      "Average price for 1818.9 is 1839.85\n",
      "Average price for 1948.9 is 1951.0\n",
      "Average price for 1933.4 is 1953.3\n",
      "Average price for 1927.0 is 1973.5\n",
      "Average price for 1962.0 is 1991.97\n",
      "Average price for 1940.0 is 1965.5\n",
      "Average price for 1952.0 is 1963.9\n",
      "Average price for 1926.0 is 1971.5\n",
      "Average price for 1937.7 is 2014.5\n",
      "Average price for 2057.95 is 2102.15\n",
      "Average price for 2084.9 is 2105.9\n",
      "Average price for 2112.25 is 2115.0\n",
      "Average price for 2106.7 is 2156.55\n",
      "Average price for 2130.0 is 2151.0\n",
      "Average price for 2080.2 is 2125.45\n",
      "Average price for 2106.35 is 2164.9\n",
      "Average price for 2150.5 is 2159.8\n",
      "Average price for 2129.8 is 2167.35\n",
      "Average price for 2141.0 is 2151.8\n",
      "Average price for 2147.0 is 2150.0\n",
      "Average price for 2144.0 is 2215.0\n",
      "Average price for 2215.0 is 2222.55\n",
      "Average price for 2203.65 is 2215.0\n",
      "Average price for 2204.0 is 2215.5\n",
      "Average price for 2200.0 is 2219.82\n",
      "Average price for 2158.5 is 2177.0\n",
      "Average price for 2145.25 is 2150.0\n",
      "Average price for 2125.0 is 2142.65\n",
      "Average price for 2088.0 is 2126.35\n",
      "Average price for 2120.0 is 2154.85\n",
      "Average price for 2065.0 is 2129.77\n",
      "Average price for 2066.8 is 2066.8\n",
      "Average price for 2058.0 is 2082.7\n",
      "Average price for 2032.05 is 2044.7\n",
      "Average price for 1996.0 is 2098.0\n",
      "Average price for 2084.85 is 2104.0\n",
      "Average price for 2081.0 is 2109.35\n",
      "Average price for 2034.8 is 2074.9\n",
      "Average price for 2030.3 is 2076.7\n",
      "Average price for 2060.0 is 2072.15\n",
      "Average price for 2048.65 is 2109.0\n",
      "Average price for 2071.1 is 2081.45\n",
      "Average price for 2069.0 is 2094.0\n",
      "Average price for 2041.4 is 2062.25\n",
      "Average price for 2042.3 is 2084.9\n",
      "Average price for 2025.0 is 2038.45\n",
      "Average price for 1995.25 is 2010.15\n",
      "Average price for 1970.1 is 1980.0\n",
      "Average price for 1955.0 is 1996.2\n",
      "Average price for 1990.25 is 2002.4\n",
      "Average price for 1975.0 is 2021.0\n",
      "Average price for 2000.0 is 2039.28\n",
      "Average price for 1980.0 is 2003.95\n",
      "Average price for 1937.0 is 1975.8\n",
      "Average price for 1979.9 is 1993.8\n",
      "Average price for 1973.0 is 2042.2\n",
      "Average price for 2024.7 is 2025.45\n",
      "Average price for 1978.0 is 2006.45\n",
      "Average price for 1976.0 is 1989.5\n",
      "Average price for 1968.0 is 2002.95\n",
      "Average price for 1986.65 is 2022.15\n",
      "Average price for 2016.5 is 2021.45\n",
      "Average price for 1988.1 is 1988.15\n",
      "Average price for 1949.75 is 1959.0\n",
      "Average price for 1890.3 is 1891.6\n",
      "Average price for 1860.3 is 1884.95\n",
      "Average price for 1840.0 is 1860.2\n",
      "Average price for 1822.0 is 1856.0\n",
      "Average price for 1826.65 is 1850.0\n",
      "Average price for 1760.05 is 1842.0\n",
      "Average price for 1836.0 is 1839.0\n",
      "Average price for 1790.95 is 1833.6\n",
      "Average price for 1752.7 is 1757.25\n",
      "Average price for 1670.1 is 1721.1\n",
      "Average price for 1710.75 is 1727.6\n",
      "Average price for 1712.4 is 1721.0\n",
      "Average price for 1692.6 is 1725.0\n",
      "Average price for 1717.3 is 1780.0\n",
      "Average price for 1776.0 is 1800.97\n",
      "Average price for 1792.55 is 1817.2\n",
      "Average price for 1755.05 is 1814.5\n",
      "Average price for 1835.0 is 1905.0\n",
      "Average price for 1900.0 is 1919.87\n",
      "Average price for 1905.0 is 1917.05\n",
      "Average price for 1880.4 is 1899.0\n",
      "Average price for 1810.2 is 1841.95\n",
      "Average price for 1831.35 is 1857.3\n",
      "Average price for 1848.0 is 1852.2\n",
      "Average price for 1827.0 is 1861.0\n",
      "Average price for 1842.05 is 1869.95\n",
      "Average price for 1851.0 is 1867.4\n",
      "Average price for 1820.25 is 1851.0\n",
      "Average price for 1834.95 is 1883.75\n",
      "Average price for 1807.0 is 1835.0\n",
      "Average price for 1872.95 is 1888.0\n",
      "Average price for 1854.95 is 1869.0\n",
      "Average price for 1804.3 is 1822.9\n",
      "Average price for 1823.8 is 1848.0\n",
      "Average price for 1835.3 is 1860.0\n",
      "Average price for 1837.9 is 1837.9\n",
      "Average price for 1820.05 is 1820.35\n",
      "Average price for 1759.5 is 1774.5\n",
      "Average price for 1749.8 is 1755.35\n",
      "Average price for 1741.0 is 1750.0\n",
      "Average price for 1753.3 is 1774.8\n",
      "Average price for 1765.25 is 1789.4\n",
      "Average price for 1734.9 is 1734.9\n",
      "Average price for 1767.7 is 1817.6\n",
      "Average price for 1795.25 is 1839.25\n",
      "Average price for 1825.25 is 1840.9\n",
      "Average price for 1814.0 is 1855.0\n",
      "Average price for 1805.15 is 1837.65\n",
      "Average price for 1782.8 is 1793.8\n",
      "Average price for 1787.1 is 1871.0\n",
      "Average price for 1842.5 is 1940.0\n",
      "Average price for 1928.0 is 1935.0\n",
      "Average price for 1910.0 is 1938.2\n",
      "Average price for 1891.0 is 1907.7\n",
      "Average price for 1867.8 is 1894.15\n",
      "Average price for 1893.4 is 1893.4\n",
      "Average price for 1861.15 is 1875.0\n",
      "Average price for 1864.0 is 1886.88\n",
      "Average price for 1879.7 is 1881.0\n",
      "Average price for 1864.7 is 1906.85\n",
      "Average price for 1884.8 is 1918.0\n",
      "Average price for 1920.0 is 1921.35\n",
      "Average price for 1886.5 is 1987.75\n",
      "Average price for 1950.0 is 1988.5\n",
      "Average price for 1995.6 is 2029.0\n",
      "Average price for 2006.95 is 2050.0\n",
      "Average price for 2001.1 is 2015.0\n",
      "Average price for 1924.0 is 1954.65\n",
      "Average price for 1952.7 is 1966.2\n",
      "Average price for 1935.0 is 1947.5\n",
      "Average price for 1869.0 is 1869.0\n",
      "Average price for 1814.7 is 1825.0\n",
      "Average price for 1786.0 is 1817.8\n",
      "Average price for 1806.0 is 1869.8\n",
      "Average price for 1869.7 is 1913.0\n",
      "Average price for 1895.25 is 1920.97\n",
      "Average price for 1830.05 is 1834.0\n",
      "Average price for 1770.0 is 1805.0\n",
      "Average price for 1740.45 is 1850.0\n",
      "Average price for 1837.0 is 1870.0\n",
      "Average price for 1865.0 is 1898.8\n",
      "Average price for 1904.8 is 1937.0\n",
      "Average price for 1908.0 is 1925.0\n",
      "Average price for 1929.2 is 1988.25\n",
      "Average price for 1957.0 is 2011.0\n",
      "Average price for 1982.0 is 2010.1\n",
      "Average price for 1961.5 is 2013.9\n",
      "Average price for 1981.55 is 2024.9\n",
      "Average price for 2005.35 is 2043.25\n",
      "Average price for 2055.0 is 2062.45\n",
      "Average price for 1980.6 is 2013.7\n",
      "Average price for 2006.2 is 2026.9\n",
      "Average price for 2010.0 is 2045.23\n",
      "Average price for 2119.0 is 2137.0\n",
      "Average price for 2155.25 is 2160.0\n",
      "Average price for 2109.0 is 2179.0\n",
      "Average price for 2160.25 is 2175.9\n",
      "Average price for 2141.5 is 2165.9\n",
      "Average price for 2139.0 is 2141.0\n",
      "Average price for 2124.45 is 2159.45\n",
      "Average price for 2158.3 is 2168.55\n",
      "Average price for 2160.0 is 2160.0\n",
      "Average price for 2149.7 is 2149.7\n",
      "Average price for 2085.0 is 2121.0\n",
      "Average price for 2080.1 is 2108.65\n",
      "Average price for 2073.0 is 2112.0\n",
      "Average price for 2105.05 is 2147.0\n",
      "Average price for 2121.2 is 2143.9\n",
      "Average price for 2150.0 is 2169.93\n",
      "Average price for 2129.0 is 2130.0\n",
      "Average price for 2100.05 is 2100.05\n",
      "Average price for 2090.0 is 2109.35\n",
      "Average price for 2053.0 is 2055.6\n",
      "Average price for 2034.7 is 2060.0\n",
      "Average price for 2023.9 is 2024.05\n",
      "Average price for 1965.0 is 1994.9\n",
      "Average price for 1940.1 is 1950.0\n",
      "Average price for 1906.0 is 1934.08\n",
      "Average price for 1930.3 is 1949.0\n",
      "Average price for 1941.1 is 1964.0\n",
      "Average price for 1949.95 is 1979.0\n",
      "Average price for 1941.0 is 1979.0\n",
      "Average price for 1966.35 is 1997.0\n",
      "Average price for 1959.0 is 1965.0\n",
      "Average price for 1942.55 is 1956.8\n",
      "Average price for 1987.0 is 1987.8\n",
      "Average price for 1994.95 is 2013.4\n",
      "Average price for 1977.25 is 1978.0\n",
      "Average price for 1911.0 is 1938.0\n",
      "Average price for 1912.0 is 1927.05\n",
      "Average price for 1924.95 is 1945.0\n",
      "Average price for 1893.6 is 1941.9\n",
      "Average price for 1933.3 is 1963.4\n",
      "Average price for 1948.1 is 1994.5\n",
      "Average price for 1953.5 is 1965.0\n",
      "Average price for 1939.35 is 1942.2\n",
      "Average price for 1915.0 is 1923.5\n",
      "Average price for 1918.0 is 1928.75\n",
      "Average price for 1893.0 is 1904.5\n",
      "Average price for 1896.0 is 1899.9\n",
      "Average price for 1894.9 is 1923.0\n",
      "Average price for 1914.2 is 1917.65\n",
      "Average price for 1905.2 is 1913.45\n",
      "Average price for 1874.0 is 1904.0\n",
      "Average price for 1907.75 is 1939.0\n",
      "Average price for 1938.2 is 1951.8\n",
      "Average price for 1944.0 is 1953.0\n",
      "Average price for 1949.0 is 1949.4\n",
      "Average price for 1934.7 is 1938.0\n",
      "Average price for 1906.8 is 1948.0\n",
      "Average price for 1909.0 is 1930.0\n",
      "Average price for 1901.05 is 1933.4\n",
      "Average price for 1878.0 is 1898.0\n",
      "Average price for 1890.2 is 1903.0\n",
      "Average price for 1901.35 is 1939.8\n",
      "Average price for 1930.0 is 1936.3\n",
      "Average price for 1941.95 is 1945.0\n",
      "Average price for 1942.7 is 1959.45\n",
      "Average price for 1939.7 is 1939.7\n",
      "Average price for 1904.7 is 1904.7\n",
      "Average price for 1845.0 is 1869.35\n",
      "Average price for 1861.0 is 1861.0\n",
      "Average price for 1849.0 is 1865.0\n",
      "Average price for 1862.7 is 1877.9\n",
      "Average price for 1861.8 is 1909.3\n",
      "Average price for 1903.25 is 1933.0\n",
      "Average price for 1925.0 is 1957.95\n",
      "Average price for 1942.0 is 1952.95\n",
      "Average price for 1914.0 is 1927.05\n",
      "Average price for 1925.3 is 1964.0\n",
      "Average price for 1958.0 is 2015.0\n",
      "Average price for 1984.0 is 1996.9\n",
      "Average price for 1970.25 is 2007.75\n",
      "Average price for 1973.9 is 1990.9\n",
      "Average price for 2002.05 is 2014.0\n",
      "Average price for 2012.85 is 2014.95\n",
      "Average price for 1972.9 is 1987.45\n",
      "Average price for 1979.0 is 1994.4\n",
      "Average price for 1983.2 is 2024.7\n",
      "Average price for 2014.0 is 2035.7\n",
      "Average price for 2026.0 is 2058.7\n",
      "Average price for 2038.6 is 2084.7\n",
      "Average price for 2068.7 is 2100.0\n",
      "Average price for 2083.6 is 2084.0\n",
      "Average price for 2073.45 is 2080.0\n",
      "Average price for 2054.9 is 2055.3\n",
      "Average price for 2006.55 is 2057.9\n",
      "Average price for 2039.0 is 2041.7\n",
      "Average price for 2017.9 is 2028.0\n",
      "Average price for 2009.7 is 2016.1\n",
      "Average price for 1997.0 is 2025.7\n",
      "Average price for 1991.75 is 2024.8\n",
      "Average price for 2010.55 is 2035.9\n",
      "Average price for 2020.0 is 2025.0\n",
      "Average price for 2019.0 is 2025.75\n",
      "Average price for 1998.75 is 1999.0\n",
      "Average price for 1986.25 is 1989.9\n",
      "Average price for 1939.5 is 1949.0\n",
      "Average price for 1919.95 is 1922.95\n",
      "Average price for 1890.0 is 1890.0\n",
      "Average price for 1870.0 is 1927.0\n",
      "Average price for 1911.1 is 1959.0\n",
      "Average price for 1960.0 is 2000.0\n",
      "Average price for 1991.5 is 2045.05\n",
      "Average price for 1995.0 is 2094.7\n",
      "Average price for 1969.0 is 1969.0\n",
      "Average price for 1871.0 is 1974.0\n",
      "Average price for 2011.1 is 2028.7\n",
      "Average price for 1999.65 is 1999.65\n",
      "Average price for 1968.9 is 1989.9\n",
      "Average price for 1954.95 is 1962.95\n",
      "Average price for 1945.25 is 1955.85\n",
      "Average price for 1947.95 is 1990.05\n",
      "Average price for 1970.15 is 2025.0\n",
      "Average price for 2009.0 is 2038.0\n",
      "Average price for 2056.9 is 2117.2\n",
      "Average price for 2179.5 is 2208.9\n",
      "Average price for 2163.55 is 2192.75\n",
      "Average price for 2190.0 is 2228.0\n",
      "Average price for 2173.0 is 2195.12\n",
      "Average price for 2155.0 is 2166.62\n",
      "Average price for 2165.1 is 2203.5\n",
      "Average price for 2213.8 is 2236.0\n",
      "Average price for 2229.8 is 2292.75\n",
      "Average price for 2308.0 is 2329.0\n",
      "Average price for 2294.95 is 2318.0\n",
      "Average price for 2297.6 is 2328.8\n",
      "Average price for 2314.95 is 2352.7\n",
      "Average price for 2345.0 is 2371.95\n",
      "Average price for 2319.0 is 2319.8\n",
      "Average price for 2300.1 is 2310.0\n",
      "Average price for 2310.0 is 2337.1\n",
      "Average price for 2226.0 is 2239.0\n",
      "Average price for 2166.0 is 2194.0\n",
      "Average price for 2136.2 is 2173.5\n",
      "Average price for 2133.95 is 2154.0\n",
      "Average price for 2130.5 is 2169.0\n",
      "Average price for 2132.3 is 2156.0\n",
      "Average price for 2081.8 is 2090.0\n",
      "Average price for 2083.2 is 2095.15\n",
      "Average price for 2090.35 is 2112.45\n",
      "Average price for 2113.0 is 2122.9\n",
      "Average price for 2108.7 is 2112.8\n",
      "Average price for 2092.0 is 2108.05\n",
      "Average price for 2074.1 is 2099.0\n",
      "Average price for 2073.8 is 2079.0\n",
      "Average price for 2172.95 is 2178.0\n",
      "Average price for 2142.95 is 2144.85\n",
      "Average price for 2137.0 is 2154.4\n",
      "Average price for 2153.4 is 2165.0\n",
      "Average price for 2125.1 is 2164.45\n",
      "Average price for 2140.5 is 2210.0\n",
      "Average price for 2213.0 is 2278.6\n",
      "Average price for 2275.0 is 2292.45\n",
      "Average price for 2274.9 is 2277.05\n",
      "Average price for 2245.9 is 2285.0\n",
      "Average price for 2270.0 is 2311.53\n",
      "Average price for 2280.3 is 2303.8\n",
      "Average price for 2279.7 is 2298.8\n",
      "Average price for 2265.95 is 2306.55\n",
      "Average price for 2265.1 is 2279.95\n",
      "Average price for 2220.2 is 2297.5\n",
      "Average price for 2302.3 is 2349.0\n",
      "Average price for 2368.75 is 2374.65\n",
      "Average price for 2340.0 is 2360.05\n",
      "Average price for 2360.5 is 2373.35\n",
      "Average price for 2352.0 is 2364.85\n",
      "Average price for 2351.85 is 2351.85\n",
      "Average price for 2325.2 is 2355.0\n",
      "Average price for 2307.35 is 2332.4\n",
      "Average price for 2316.0 is 2405.0\n",
      "Average price for 2404.9 is 2428.2\n",
      "Average price for 2421.95 is 2440.0\n",
      "Average price for 2403.8 is 2457.0\n",
      "Average price for 2401.0 is 2444.95\n",
      "Average price for 2361.0 is 2415.65\n",
      "Average price for 2348.05 is 2389.5\n",
      "Average price for 2349.95 is 2358.2\n",
      "Average price for 2311.0 is 2342.35\n",
      "Average price for 2356.0 is 2376.05\n",
      "Average price for 2314.0 is 2356.95\n",
      "Average price for 2332.0 is 2356.85\n",
      "Average price for 2363.0 is 2368.15\n",
      "Average price for 2330.2 is 2364.85\n",
      "Average price for 2389.0 is 2429.0\n",
      "Average price for 2365.1 is 2440.9\n",
      "Average price for 2375.0 is 2391.78\n",
      "Average price for 2383.0 is 2427.25\n",
      "Average price for 2420.0 is 2444.48\n",
      "Average price for 2427.5 is 2508.6\n",
      "Average price for 2499.95 is 2541.0\n",
      "Average price for 2535.6 is 2544.95\n",
      "Average price for 2520.0 is 2522.85\n",
      "Average price for 2515.0 is 2550.33\n",
      "Average price for 2555.0 is 2576.3\n",
      "Average price for 2581.95 is 2628.25\n",
      "Average price for 2611.0 is 2611.0\n",
      "Average price for 2594.0 is 2628.47\n",
      "Average price for 2575.0 is 2584.78\n",
      "Average price for 2545.0 is 2566.32\n",
      "Average price for 2541.1 is 2559.8\n",
      "Average price for 2549.55 is 2624.95\n",
      "Average price for 2600.0 is 2644.37\n",
      "Average price for 2625.0 is 2646.38\n",
      "Average price for 2645.0 is 2663.57\n",
      "Average price for 2647.0 is 2704.0\n",
      "Average price for 2685.0 is 2690.0\n",
      "Average price for 2659.0 is 2685.0\n",
      "Average price for 2661.0 is 2695.0\n",
      "Average price for 2670.2 is 2680.3\n",
      "Average price for 2620.0 is 2647.95\n",
      "Average price for 2617.2 is 2654.0\n",
      "Average price for 2654.0 is 2675.55\n",
      "Average price for 2642.5 is 2660.8\n",
      "Average price for 2586.0 is 2602.4\n",
      "Average price for 2609.6 is 2632.95\n",
      "Average price for 2608.9 is 2617.35\n",
      "Average price for 2568.05 is 2592.6\n",
      "Average price for 2553.0 is 2572.6\n",
      "Average price for 2500.0 is 2542.04\n",
      "Average price for 2496.0 is 2551.07\n",
      "Average price for 2485.15 is 2509.5\n",
      "Average price for 2480.5 is 2528.6\n",
      "Average price for 2505.8 is 2524.2\n",
      "Average price for 2510.0 is 2510.0\n",
      "Average price for 2475.0 is 2499.78\n",
      "Average price for 2530.95 is 2539.0\n",
      "Average price for 2483.0 is 2510.53\n",
      "Average price for 2499.7 is 2505.0\n",
      "Average price for 2421.05 is 2448.7\n",
      "Average price for 2431.0 is 2458.3\n",
      "Average price for 2457.0 is 2476.4\n",
      "Average price for 2452.0 is 2481.2\n",
      "Average price for 2454.3 is 2469.9\n",
      "Average price for 2442.0 is 2475.6\n",
      "Average price for 2447.65 is 2465.0\n",
      "Average price for 2455.0 is 2483.8\n",
      "Average price for 2385.0 is 2396.0\n",
      "Average price for 2318.3 is 2369.9\n",
      "Average price for 2380.1 is 2437.35\n",
      "Average price for 2420.1 is 2420.1\n",
      "Average price for 2407.0 is 2417.6\n",
      "Average price for 2455.25 is 2491.25\n",
      "Average price for 2470.9 is 2474.0\n",
      "Average price for 2428.2 is 2439.95\n",
      "Average price for 2414.4 is 2414.4\n",
      "Average price for 2396.7 is 2416.8\n",
      "Average price for 2406.45 is 2416.2\n",
      "Average price for 2390.0 is 2421.25\n",
      "Average price for 2350.05 is 2368.0\n",
      "Average price for 2281.8 is 2281.8\n",
      "Average price for 2253.0 is 2270.0\n",
      "Average price for 2240.05 is 2257.8\n",
      "Average price for 2241.1 is 2278.6\n",
      "Average price for 2268.0 is 2294.0\n",
      "Average price for 2285.0 is 2314.9\n",
      "Average price for 2272.35 is 2283.7\n",
      "Average price for 2263.2 is 2272.43\n",
      "Average price for 2242.65 is 2242.65\n",
      "Average price for 2230.0 is 2240.0\n",
      "Average price for 2182.0 is 2235.12\n",
      "Average price for 2200.1 is 2203.0\n",
      "Average price for 2181.0 is 2186.25\n",
      "Average price for 2140.1 is 2161.85\n",
      "Average price for 2161.0 is 2175.35\n",
      "Average price for 2117.55 is 2139.0\n",
      "Average price for 2124.0 is 2139.6\n",
      "Average price for 2110.0 is 2149.55\n",
      "Average price for 2105.0 is 2113.0\n",
      "Average price for 2079.0 is 2084.9\n",
      "Average price for 2040.0 is 2057.0\n",
      "Average price for 2050.1 is 2054.6\n",
      "Average price for 2040.1 is 2047.0\n",
      "Average price for 2035.0 is 2035.0\n",
      "Average price for 2011.8 is 2041.8\n",
      "Average price for 2034.0 is 2040.9\n",
      "Average price for 2032.0 is 2035.0\n",
      "Average price for 2027.05 is 2035.0\n",
      "Average price for 2039.95 is 2098.0\n",
      "Average price for 2091.35 is 2128.0\n",
      "Average price for 2101.15 is 2107.0\n",
      "Average price for 2106.0 is 2106.0\n",
      "Average price for 2115.0 is 2115.0\n",
      "Average price for 2101.0 is 2115.3\n",
      "Average price for 2067.5 is 2094.6\n",
      "Average price for 2063.65 is 2080.0\n",
      "Average price for 2025.7 is 2055.3\n",
      "Average price for 1995.1 is 2025.0\n",
      "Average price for 1992.0 is 2017.6\n",
      "Average price for 1990.5 is 2007.95\n",
      "Average price for 2006.0 is 2009.95\n",
      "Average price for 1985.0 is 2000.0\n",
      "Average price for 1990.2 is 2002.7\n",
      "Average price for 1977.8 is 1977.8\n",
      "Average price for 1958.8 is 2098.7\n",
      "Average price for 2087.9 is 2087.9\n",
      "Average price for 2078.15 is 2148.1\n",
      "Average price for 2131.0 is 2193.25\n",
      "Average price for 2182.4 is 2185.0\n",
      "Average price for 2192.0 is 2227.9\n",
      "Average price for 2220.0 is 2270.38\n",
      "Average price for 2144.1 is 2314.0\n",
      "Average price for 2300.0 is 2316.97\n",
      "Average price for 2303.45 is 2336.75\n",
      "Average price for 2312.25 is 2335.0\n",
      "Average price for 2313.25 is 2331.0\n",
      "Average price for 2318.55 is 2351.0\n",
      "Average price for 2342.0 is 2347.05\n",
      "Average price for 2251.0 is 2290.85\n",
      "Average price for 2244.8 is 2261.0\n",
      "Average price for 2203.7 is 2236.0\n",
      "Average price for 2218.7 is 2232.5\n",
      "Average price for 2266.0 is 2299.93\n",
      "Average price for 2286.3 is 2339.15\n",
      "Average price for 2329.0 is 2403.15\n",
      "Average price for 2395.0 is 2403.65\n",
      "Average price for 2370.0 is 2401.12\n",
      "Average price for 2409.95 is 2425.0\n",
      "Average price for 2405.05 is 2436.45\n",
      "Average price for 2425.05 is 2438.0\n",
      "Average price for 2414.95 is 2414.95\n",
      "Average price for 2494.0 is 2533.58\n",
      "Average price for 2552.45 is 2584.0\n",
      "Average price for 2541.95 is 2555.0\n",
      "Average price for 2580.0 is 2612.32\n",
      "Average price for 2572.0 is 2601.47\n",
      "Average price for 2602.0 is 2612.9\n",
      "Average price for 2589.05 is 2608.0\n",
      "Average price for 2519.9 is 2523.4\n",
      "Average price for 2480.0 is 2493.97\n",
      "Average price for 2540.0 is 2574.07\n",
      "Average price for 2533.0 is 2554.72\n",
      "Average price for 2508.0 is 2572.95\n",
      "Average price for 2548.0 is 2628.0\n",
      "Average price for 2630.0 is 2661.0\n",
      "Average price for 2492.9 is 2518.8\n",
      "Average price for 2517.0 is 2524.9\n",
      "Average price for 2484.6 is 2514.75\n",
      "Average price for 2525.0 is 2549.8\n",
      "Average price for 2524.9 is 2524.9\n",
      "Average price for 2506.0 is 2586.85\n",
      "Average price for 2576.0 is 2608.0\n",
      "Average price for 2578.35 is 2582.0\n",
      "Average price for 2544.95 is 2573.65\n",
      "Average price for 2560.0 is 2618.96\n",
      "Average price for 2535.0 is 2546.8\n",
      "Average price for 2470.0 is 2507.52\n",
      "Average price for 2495.0 is 2572.8\n",
      "Average price for 2569.0 is 2581.67\n",
      "Average price for 2519.0 is 2555.0\n",
      "Average price for 2505.05 is 2546.25\n",
      "Average price for 2475.05 is 2508.6\n",
      "Average price for 2339.7 is 2355.7\n",
      "Average price for 2217.5 is 2245.9\n",
      "Average price for 2194.45 is 2270.0\n",
      "Average price for 2214.95 is 2293.85\n",
      "Average price for 2261.0 is 2270.0\n",
      "Average price for 2212.85 is 2258.9\n",
      "Average price for 2245.0 is 2282.45\n",
      "Average price for 2218.15 is 2264.9\n",
      "Average price for 2235.1 is 2235.1\n",
      "Average price for 2225.0 is 2225.0\n",
      "Average price for 2196.1 is 2219.0\n",
      "Average price for 2240.0 is 2293.95\n",
      "Average price for 2327.0 is 2334.2\n",
      "Average price for 2315.0 is 2352.0\n",
      "Average price for 2305.1 is 2369.0\n",
      "Average price for 2332.9 is 2333.0\n",
      "Average price for 2242.0 is 2256.1\n",
      "Average price for 2248.0 is 2293.9\n",
      "Average price for 2258.0 is 2293.2\n",
      "Average price for 2325.0 is 2405.0\n",
      "Average price for 2371.1 is 2465.0\n",
      "Average price for 2479.9 is 2479.9\n",
      "Average price for 2448.0 is 2486.0\n",
      "Average price for 2450.5 is 2458.95\n",
      "Average price for 2430.0 is 2527.13\n",
      "Average price for 2456.3 is 2478.8\n",
      "Average price for 2456.75 is 2487.75\n",
      "Average price for 2461.5 is 2480.25\n",
      "Average price for 2444.0 is 2538.1\n",
      "Average price for 2532.85 is 2564.2\n",
      "Average price for 2530.0 is 2581.9\n",
      "Average price for 2566.05 is 2595.0\n",
      "Average price for 2580.1 is 2585.0\n",
      "Average price for 2575.1 is 2583.0\n",
      "Average price for 2542.0 is 2575.0\n",
      "Average price for 2444.95 is 2450.15\n",
      "Average price for 2449.95 is 2468.25\n",
      "Average price for 2411.1 is 2448.85\n",
      "Average price for 2394.8 is 2430.0\n",
      "Average price for 2465.2 is 2472.0\n",
      "Average price for 2440.0 is 2470.0\n",
      "Average price for 2374.0 is 2408.85\n",
      "Average price for 2384.0 is 2417.8\n",
      "Average price for 2369.0 is 2384.25\n",
      "Average price for 2427.95 is 2510.0\n",
      "Average price for 2481.0 is 2529.0\n",
      "Average price for 2494.8 is 2522.8\n",
      "Average price for 2433.05 is 2462.8\n",
      "Average price for 2499.0 is 2506.95\n",
      "Average price for 2455.2 is 2489.45\n",
      "Average price for 2471.05 is 2485.0\n",
      "Average price for 2440.5 is 2484.0\n",
      "Average price for 2463.0 is 2498.63\n",
      "Average price for 2391.6 is 2451.95\n",
      "Average price for 2454.7 is 2454.7\n",
      "Average price for 2412.0 is 2428.0\n",
      "Average price for 2409.1 is 2445.05\n",
      "Average price for 2462.0 is 2464.0\n",
      "Average price for 2460.0 is 2541.7\n",
      "Average price for 2490.25 is 2503.0\n",
      "Average price for 2489.0 is 2507.0\n",
      "Average price for 2489.95 is 2499.5\n",
      "Average price for 2494.9 is 2502.95\n",
      "Average price for 2496.9 is 2496.9\n",
      "Average price for 2530.1 is 2552.4\n",
      "Average price for 2492.2 is 2514.15\n",
      "Average price for 2432.5 is 2443.9\n",
      "Average price for 2359.9 is 2372.75\n",
      "Average price for 2361.5 is 2377.45\n",
      "Average price for 2355.0 is 2387.9\n",
      "Average price for 2349.0 is 2374.65\n",
      "Average price for 2369.95 is 2387.4\n",
      "Average price for 2259.95 is 2291.0\n",
      "Average price for 2240.5 is 2284.9\n",
      "Average price for 2280.05 is 2299.9\n",
      "Average price for 2279.0 is 2329.3\n",
      "Average price for 2323.3 is 2348.0\n",
      "Average price for 2333.0 is 2333.0\n",
      "Average price for 2301.0 is 2310.6\n",
      "Average price for 2360.0 is 2361.95\n",
      "Average price for 2318.4 is 2378.95\n",
      "Average price for 2366.3 is 2388.8\n",
      "Average price for 2344.0 is 2372.22\n",
      "Average price for 2363.95 is 2387.9\n",
      "Average price for 2376.7 is 2386.95\n",
      "Average price for 2326.0 is 2372.3\n",
      "Average price for 2365.0 is 2368.7\n",
      "Average price for 2329.5 is 2369.0\n",
      "Average price for 2370.05 is 2417.65\n",
      "Average price for 2459.0 is 2485.0\n",
      "Average price for 2386.75 is 2408.0\n",
      "Average price for 2338.0 is 2352.85\n",
      "Average price for 2331.2 is 2351.9\n",
      "Average price for 2205.1 is 2267.0\n",
      "Average price for 2279.95 is 2318.0\n",
      "Average price for 2250.0 is 2286.2\n",
      "Average price for 2289.8 is 2324.1\n",
      "Average price for 2322.35 is 2335.0\n",
      "Average price for 2344.7 is 2344.7\n",
      "Average price for 2332.95 is 2347.0\n",
      "Average price for 2245.6 is 2259.65\n",
      "Average price for 2256.55 is 2283.3\n",
      "Average price for 2271.0 is 2308.0\n",
      "Average price for 2307.9 is 2320.0\n",
      "Average price for 2302.0 is 2322.8\n",
      "Average price for 2314.9 is 2364.0\n",
      "Average price for 2375.5 is 2375.5\n",
      "Average price for 2356.9 is 2374.0\n",
      "Average price for 2364.0 is 2440.0\n",
      "Average price for 2418.0 is 2457.0\n",
      "Average price for 2449.9 is 2470.0\n",
      "Average price for 2397.9 is 2425.0\n",
      "Average price for 2387.0 is 2395.2\n",
      "Average price for 2397.95 is 2439.0\n",
      "Average price for 2433.85 is 2468.05\n",
      "Average price for 2474.7 is 2614.5\n",
      "Average price for 2605.0 is 2625.95\n",
      "Average price for 2546.7 is 2572.4\n",
      "Average price for 2532.0 is 2548.0\n",
      "Average price for 2489.65 is 2554.0\n",
      "Average price for 2512.75 is 2559.9\n",
      "Average price for 2541.0 is 2559.5\n",
      "Average price for 2551.25 is 2583.15\n",
      "Average price for 2536.05 is 2568.6\n",
      "Average price for 2487.0 is 2500.75\n",
      "Average price for 2484.0 is 2525.0\n",
      "Average price for 2454.5 is 2480.55\n",
      "Average price for 2446.55 is 2453.75\n",
      "Average price for 2529.8 is 2540.0\n",
      "Average price for 2512.3 is 2558.0\n",
      "Average price for 2540.6 is 2545.0\n",
      "Average price for 2520.1 is 2526.2\n",
      "Average price for 2488.0 is 2501.95\n",
      "Average price for 2468.0 is 2471.6\n",
      "Average price for 2437.0 is 2461.55\n",
      "Average price for 2461.0 is 2464.0\n",
      "Average price for 2421.0 is 2421.0\n",
      "Average price for 2404.85 is 2504.95\n",
      "Average price for 2505.0 is 2581.95\n",
      "Average price for 2583.0 is 2614.95\n",
      "Average price for 2635.0 is 2635.0\n",
      "Average price for 2585.05 is 2594.05\n",
      "Average price for 2595.6 is 2659.15\n",
      "Average price for 2641.8 is 2650.0\n",
      "Average price for 2649.85 is 2658.0\n",
      "Average price for 2640.75 is 2655.75\n",
      "Average price for 2634.3 is 2635.35\n",
      "Average price for 2590.0 is 2617.16\n",
      "Average price for 2566.0 is 2594.7\n",
      "Average price for 2570.5 is 2610.1\n",
      "Average price for 2582.0 is 2589.55\n",
      "Average price for 2573.0 is 2589.0\n",
      "Average price for 2636.25 is 2639.55\n",
      "Average price for 2690.0 is 2735.8\n",
      "Average price for 2662.0 is 2669.7\n",
      "Average price for 2647.8 is 2650.0\n",
      "Average price for 2658.0 is 2700.0\n",
      "Average price for 2697.5 is 2719.95\n",
      "Average price for 2680.0 is 2710.11\n",
      "Average price for 2608.5 is 2625.0\n",
      "Average price for 2626.0 is 2658.0\n",
      "Average price for 2657.0 is 2675.0\n",
      "Average price for 2643.0 is 2674.0\n",
      "Average price for 2668.5 is 2700.0\n",
      "Average price for 2714.45 is 2763.0\n",
      "Average price for 2760.1 is 2764.0\n",
      "Average price for 2761.75 is 2793.0\n",
      "Average price for 2787.1 is 2801.85\n",
      "Average price for 2765.2 is 2767.2\n",
      "Average price for 2720.0 is 2749.54\n",
      "Average price for 2705.0 is 2720.2\n",
      "Average price for 2675.0 is 2710.65\n",
      "Average price for 2671.7 is 2711.75\n",
      "Average price for 2710.1 is 2780.0\n",
      "Average price for 2749.9 is 2780.0\n",
      "Average price for 2743.1 is 2758.5\n",
      "Average price for 2738.0 is 2768.95\n",
      "Average price for 2754.3 is 2881.0\n",
      "Average price for 2872.1 is 2918.05\n",
      "Average price for 2871.9 is 2893.75\n",
      "Average price for 2862.2 is 2902.0\n",
      "Average price for 2860.0 is 2892.56\n",
      "Average price for 2846.0 is 2878.4\n",
      "Average price for 2872.25 is 2897.3\n",
      "Average price for 2892.4 is 2951.8\n",
      "Average price for 2933.0 is 2954.12\n",
      "Average price for 2946.1 is 2948.95\n",
      "Average price for 2923.9 is 2923.9\n",
      "Average price for 2885.0 is 2907.53\n",
      "Average price for 2894.0 is 2923.45\n",
      "Average price for 2877.4 is 2877.4\n",
      "Average price for 2867.8 is 2904.0\n",
      "Average price for 2897.05 is 3010.0\n",
      "Average price for 2982.0 is 3037.75\n",
      "Average price for 2978.5 is 3018.3\n",
      "Average price for 2970.05 is 3015.0\n",
      "Average price for 2996.0 is 3035.45\n",
      "Average price for 3020.0 is 3020.0\n",
      "Average price for 2980.0 is 3069.28\n",
      "Average price for 3091.9 is 3107.2\n",
      "Average price for 2970.0 is 2994.85\n",
      "Average price for 2964.0 is 3004.63\n",
      "Average price for 2971.0 is 2978.0\n",
      "Average price for 2932.9 is 3031.0\n",
      "Average price for 2984.85 is 3012.3\n",
      "Average price for 2923.8 is 2956.0\n",
      "Average price for 2889.0 is 2940.75\n",
      "Average price for 2936.0 is 2972.95\n",
      "Average price for 2926.0 is 2954.2\n",
      "Average price for 2924.0 is 2935.33\n",
      "Average price for 2918.0 is 2959.26\n",
      "Average price for 2879.0 is 2902.0\n",
      "Average price for 2941.0 is 2953.95\n",
      "Average price for 2857.95 is 2857.95\n",
      "Average price for 2830.0 is 2860.81\n",
      "Average price for 2903.0 is 2917.0\n",
      "Average price for 2900.0 is 2912.25\n",
      "Average price for 2869.05 is 2869.05\n",
      "Average price for 2827.05 is 2900.0\n",
      "Average price for 2892.0 is 2906.75\n",
      "Average price for 2865.1 is 2880.4\n",
      "Average price for 2838.0 is 2849.0\n",
      "Average price for 2805.0 is 2833.8\n",
      "Average price for 2756.25 is 2810.0\n",
      "Average price for 2801.3 is 2820.0\n",
      "Average price for 2797.25 is 2824.6\n",
      "Average price for 2810.0 is 2841.58\n",
      "Average price for 2808.5 is 2814.6\n",
      "Average price for 2797.0 is 2811.5\n",
      "Average price for 2795.0 is 2821.52\n",
      "Average price for 2824.9 is 2833.9\n",
      "Average price for 2764.0 is 2826.07\n",
      "Average price for 2875.0 is 2904.05\n",
      "Average price for 2830.4 is 2864.0\n",
      "Average price for 2818.7 is 2829.9\n",
      "Average price for 2829.9 is 2850.0\n",
      "Average price for 2834.0 is 2860.08\n",
      "Average price for 2746.0 is 2823.95\n",
      "Average price for 2790.0 is 2812.6\n",
      "Average price for 2709.1 is 2768.0\n",
      "Average price for 2632.0 is 2659.0\n",
      "Average price for 2601.0 is 2662.95\n",
      "Average price for 2556.0 is 2579.95\n",
      "Average price for 2639.7 is 2639.7\n",
      "Average price for 2591.0 is 2658.0\n",
      "Average price for 2619.95 is 2665.0\n",
      "Average price for 2640.8 is 2687.0\n",
      "Average price for 2684.0 is 2701.0\n",
      "Average price for 2674.5 is 2715.0\n",
      "Average price for 2692.0 is 2765.5\n",
      "Average price for 2745.3 is 2754.75\n",
      "Average price for 2736.3 is 2740.9\n",
      "Average price for 2715.0 is 2758.5\n",
      "Average price for 2781.55 is 2786.35\n",
      "Average price for 2655.0 is 2665.9\n",
      "Average price for 2668.0 is 2699.05\n",
      "Average price for 2681.0 is 2690.0\n",
      "Average price for 2649.0 is 2665.7\n",
      "Average price for 2644.85 is 2662.3\n",
      "Average price for 2600.1 is 2632.0\n",
      "Average price for 2565.1 is 2633.25\n",
      "Average price for 2617.7 is 2650.0\n",
      "Average price for 2595.0 is 2643.7\n",
      "Average price for 2634.0 is 2654.25\n",
      "Average price for 2625.2 is 2682.68\n",
      "Average price for 2652.1 is 2666.0\n",
      "Average price for 2642.7 is 2654.3\n",
      "Average price for 2694.0 is 2712.5\n",
      "Average price for 2721.0 is 2754.8\n",
      "Average price for 2717.0 is 2757.0\n",
      "Average price for 2728.25 is 2747.3\n",
      "Average price for 2746.5 is 2748.5\n",
      "Average price for 2732.0 is 2753.75\n",
      "Average price for 2703.0 is 2730.0\n",
      "Average price for 2711.0 is 2742.0\n",
      "Average price for 2743.0 is 2743.0\n",
      "Average price for 2698.9 is 2712.0\n",
      "Average price for 2689.0 is 2720.0\n",
      "Average price for 2695.5 is 2715.0\n",
      "Average price for 2815.0 is 2854.33\n",
      "Average price for 2840.0 is 2873.8\n",
      "Average price for 2850.05 is 2852.0\n",
      "Average price for 2821.1 is 2919.0\n",
      "Average price for 2838.3 is 2872.0\n",
      "Average price for 2852.0 is 2878.52\n",
      "Average price for 2792.15 is 2815.4\n",
      "Average price for 2815.35 is 2825.0\n",
      "Average price for 2802.0 is 2809.7\n",
      "Average price for 2772.2 is 2788.0\n",
      "Average price for 2797.4 is 2810.0\n",
      "Average price for 2806.85 is 2810.9\n",
      "Average price for 2779.6 is 2802.3\n",
      "Average price for 2799.0 is 2799.0\n",
      "Average price for 2773.0 is 2784.0\n",
      "Average price for 2784.4 is 2821.45\n",
      "Average price for 2792.0 is 2806.0\n",
      "Average price for 2793.5 is 2808.5\n",
      "Average price for 2788.0 is 2817.74\n",
      "Average price for 2756.0 is 2795.0\n",
      "Average price for 2805.5 is 2844.8\n",
      "Average price for 2835.0 is 2842.0\n",
      "Average price for 2844.9 is 2877.38\n",
      "Average price for 2885.4 is 2893.0\n",
      "Average price for 2880.4 is 2882.9\n",
      "Average price for 2876.8 is 2889.9\n",
      "Average price for 2902.0 is 2910.0\n",
      "Average price for 2869.7 is 2890.0\n",
      "Average price for 2881.3 is 2944.9\n",
      "Average price for 2945.9 is 2948.7\n",
      "Average price for 2916.15 is 2932.5\n",
      "Average price for 2926.6 is 2930.15\n",
      "Average price for 2890.25 is 2904.1\n",
      "Average price for 2848.25 is 2875.0\n",
      "Average price for 2880.0 is 2908.19\n",
      "Average price for 2845.7 is 2853.0\n",
      "Average price for 2820.0 is 2849.55\n",
      "Average price for 2827.8 is 2848.95\n",
      "Average price for 2840.05 is 2847.0\n",
      "Average price for 2822.5 is 2832.7\n",
      "Average price for 2808.4 is 2837.5\n",
      "Average price for 2786.5 is 2798.95\n",
      "Average price for 2787.85 is 2815.0\n",
      "Average price for 2808.0 is 2845.95\n",
      "Average price for 2855.0 is 2882.14\n",
      "Average price for 2816.15 is 2834.75\n",
      "Average price for 2844.45 is 2868.5\n",
      "Average price for 2820.2 is 2831.0\n",
      "Average price for 2827.15 is 2843.2\n",
      "Average price for 2827.25 is 2871.2\n",
      "Average price for 2876.0 is 2888.0\n",
      "Average price for 2915.0 is 2934.9\n",
      "Average price for 2870.15 is 2914.95\n",
      "Average price for 2865.0 is 2878.67\n",
      "Average price for 2873.6 is 2920.0\n",
      "Average price for 2909.6 is 2943.9\n",
      "Average price for 2947.6 is 2947.6\n",
      "Average price for 2939.85 is 2939.85\n",
      "Average price for 2899.95 is 2913.2\n",
      "Average price for 2864.25 is 2887.3\n",
      "Average price for 2905.3 is 3005.45\n",
      "Average price for 3005.0 is 3066.42\n",
      "Average price for 2992.2 is 3029.0\n",
      "Average price for 3001.25 is 3047.5\n",
      "Average price for 3018.0 is 3033.0\n",
      "Average price for 2973.35 is 3019.0\n",
      "Average price for 2987.7 is 3003.95\n",
      "Average price for 2928.0 is 2943.22\n",
      "Average price for 2813.0 is 2838.85\n",
      "Average price for 2837.0 is 2873.0\n",
      "Average price for 2850.0 is 2884.77\n",
      "Average price for 2848.0 is 2888.25\n",
      "Average price for 2804.0 is 2870.0\n",
      "Average price for 2872.2 is 2895.0\n",
      "Average price for 2872.0 is 2879.0\n",
      "Average price for 2855.15 is 2872.7\n",
      "Average price for 2825.0 is 2857.47\n",
      "Average price for 2817.5 is 2851.0\n",
      "Average price for 2828.45 is 2829.15\n",
      "Average price for 2789.0 is 2801.0\n",
      "Average price for 2787.8 is 2812.0\n",
      "Average price for 2796.0 is 2799.7\n",
      "Average price for 2769.0 is 2793.5\n",
      "Average price for 2761.3 is 2784.45\n",
      "Average price for 2734.0 is 2741.0\n",
      "Average price for 2716.0 is 2733.0\n",
      "Average price for 2844.0 is 2844.0\n",
      "Average price for 2735.7 is 2803.0\n",
      "Average price for 2801.0 is 2821.5\n",
      "Average price for 2819.85 is 2828.55\n",
      "Average price for 2823.4 is 2855.85\n",
      "Average price for 2818.6 is 2840.7\n",
      "Average price for 2849.5 is 2869.1\n",
      "Average price for 2845.0 is 2870.07\n",
      "Average price for 2789.95 is 2817.7\n",
      "Average price for 2824.0 is 2900.0\n",
      "Average price for 2890.0 is 2932.22\n",
      "Average price for 2919.5 is 2929.05\n",
      "Average price for 2818.0 is 2831.15\n",
      "Average price for 2798.0 is 2822.92\n",
      "Average price for 2832.0 is 2861.0\n",
      "Average price for 2817.8 is 2824.3\n",
      "Average price for 2811.0 is 2820.0\n",
      "Average price for 2779.9 is 2779.9\n",
      "Average price for 2757.0 is 2769.9\n",
      "Average price for 2764.3 is 2764.3\n",
      "Average price for 2740.0 is 2760.95\n",
      "Average price for 2760.0 is 2798.09\n",
      "Average price for 2827.9 is 2935.0\n",
      "Average price for 2916.0 is 2933.6\n",
      "Average price for 2927.0 is 2943.9\n",
      "Average price for 2938.0 is 2939.0\n",
      "Average price for 2940.0 is 2987.53\n",
      "Average price for 2952.0 is 2984.5\n",
      "Average price for 2939.0 is 2972.97\n",
      "Average price for 2929.0 is 2974.0\n",
      "Average price for 2945.0 is 3004.2\n",
      "Average price for 3045.1 is 3149.0\n",
      "Average price for 3138.0 is 3152.6\n",
      "Average price for 3115.0 is 3119.7\n",
      "Average price for 3090.55 is 3135.0\n",
      "Average price for 3064.0 is 3111.62\n",
      "Average price for 3058.4 is 3058.4\n",
      "Average price for 3032.0 is 3053.83\n",
      "Average price for 3055.2 is 3066.0\n",
      "Average price for 3034.0 is 3052.45\n",
      "Average price for 3186.0 is 3204.47\n",
      "Average price for 3152.45 is 3209.0\n",
      "Average price for 3175.0 is 3214.5\n",
      "Average price for 3145.1 is 3154.75\n",
      "Average price for 3142.9 is 3142.9\n",
      "Average price for 3134.7 is 3216.9\n",
      "Average price for 3169.95 is 3173.5\n",
      "Average price for 3164.0 is 3180.0\n",
      "Average price for 3235.0 is 3322.9\n",
      "Average price for 3249.95 is 3265.0\n",
      "Average price for 3231.9 is 3240.65\n",
      "Average price for 3192.0 is 3229.0\n",
      "Average price for 3210.55 is 3229.0\n",
      "Average price for 3264.0 is 3264.0\n",
      "Average price for 3233.9 is 3295.0\n",
      "Average price for 3300.0 is 3332.45\n",
      "Average price for 3310.7 is 3323.9\n",
      "Average price for 3270.05 is 3296.0\n",
      "Average price for 3270.0 is 3303.47\n",
      "Average price for 3277.0 is 3318.03\n",
      "Average price for 3228.0 is 3254.0\n",
      "Average price for 3211.0 is 3244.5\n",
      "Average price for 3239.0 is 3239.0\n",
      "Average price for 3174.9 is 3211.15\n",
      "Average price for 3197.95 is 3216.9\n",
      "Average price for 3200.0 is 3261.5\n",
      "Average price for 3268.0 is 3282.7\n",
      "Average price for 3239.7 is 3287.1\n",
      "Average price for 3260.0 is 3282.0\n",
      "Average price for 3225.0 is 3240.6\n",
      "Average price for 3230.0 is 3243.82\n",
      "Average price for 3254.7 is 3307.0\n",
      "Average price for 3316.95 is 3348.0\n",
      "Average price for 3324.0 is 3329.6\n",
      "Average price for 3310.0 is 3319.05\n",
      "Average price for 3289.0 is 3298.72\n",
      "Average price for 3275.0 is 3307.8\n",
      "Average price for 3301.0 is 3330.95\n",
      "Average price for 3304.45 is 3373.8\n",
      "Average price for 3338.0 is 3339.3\n",
      "Average price for 3246.9 is 3247.0\n",
      "Average price for 3197.7 is 3197.7\n",
      "Average price for 3155.0 is 3168.3\n",
      "Average price for 3110.65 is 3208.9\n",
      "Average price for 3235.7 is 3239.95\n",
      "Average price for 3216.1 is 3237.35\n",
      "Average price for 3210.35 is 3210.85\n",
      "Average price for 3160.0 is 3183.5\n",
      "Average price for 3188.0 is 3265.0\n",
      "Average price for 3179.9 is 3240.95\n",
      "Average price for 3318.85 is 3340.0\n"
     ]
    },
    {
     "name": "stdout",
     "output_type": "stream",
     "text": [
      "Average price for 3350.0 is 3385.0\n",
      "Average price for 3385.0 is 3385.0\n",
      "Average price for 3327.0 is 3343.95\n",
      "Average price for 3295.0 is 3345.47\n",
      "Average price for 3340.0 is 3383.12\n",
      "Average price for 3309.0 is 3348.0\n",
      "Average price for 3244.0 is 3274.25\n",
      "Average price for 3263.0 is 3294.0\n",
      "Average price for 3285.1 is 3296.7\n",
      "Average price for 3276.0 is 3284.5\n",
      "Average price for 3228.25 is 3240.0\n",
      "Average price for 3210.0 is 3226.32\n",
      "Average price for 3208.9 is 3214.0\n",
      "Average price for 3182.2 is 3189.0\n",
      "Average price for 3176.0 is 3185.0\n",
      "Average price for 3158.0 is 3187.3\n",
      "Average price for 3207.8 is 3223.75\n",
      "Average price for 3280.0 is 3324.0\n",
      "Average price for 3344.0 is 3345.9\n",
      "Average price for 3317.0 is 3377.95\n",
      "Average price for 3373.95 is 3404.95\n",
      "Average price for 3348.0 is 3385.8\n",
      "Average price for 3419.0 is 3468.35\n",
      "Average price for 3198.3 is 3198.3\n",
      "Average price for 3129.0 is 3142.5\n",
      "Average price for 3134.0 is 3162.9\n",
      "Average price for 3125.0 is 3158.55\n",
      "Average price for 3110.0 is 3135.48\n",
      "Average price for 3080.9 is 3081.55\n",
      "Average price for 3014.8 is 3014.8\n",
      "Average price for 2988.0 is 3007.95\n",
      "Average price for 3004.0 is 3044.0\n",
      "Average price for 3010.0 is 3052.32\n",
      "Average price for 3067.1 is 3080.0\n",
      "Average price for 3020.9 is 3020.9\n",
      "Average price for 2969.9 is 2976.05\n",
      "Average price for 2898.0 is 2923.22\n",
      "Average price for 2919.7 is 2945.0\n",
      "Average price for 2934.0 is 2966.9\n",
      "Average price for 2956.0 is 2966.0\n",
      "Average price for 2959.0 is 3004.0\n",
      "Average price for 2963.0 is 2969.0\n",
      "Average price for 2960.0 is 2984.94\n",
      "Average price for 2913.55 is 2920.85\n",
      "Average price for 2843.9 is 2888.25\n",
      "Average price for 2889.95 is 2890.45\n",
      "Average price for 2851.9 is 2873.75\n",
      "Average price for 2814.9 is 2817.25\n",
      "Average price for 2861.0 is 2863.9\n",
      "Average price for 2775.0 is 2785.75\n",
      "Average price for 2755.0 is 2815.95\n",
      "Average price for 2807.0 is 2816.0\n",
      "Average price for 2814.95 is 2824.05\n",
      "Average price for 2777.0 is 2780.0\n",
      "Average price for 2769.45 is 2806.0\n",
      "Average price for 2783.7 is 2841.45\n",
      "Average price for 2853.8 is 2870.05\n",
      "Average price for 2852.8 is 2880.0\n",
      "Average price for 2856.1 is 2897.3\n",
      "Average price for 2972.95 is 2977.5\n",
      "Average price for 3019.65 is 3043.4\n",
      "Average price for 2994.95 is 2994.95\n",
      "Average price for 2985.0 is 2989.5\n",
      "Average price for 2882.0 is 2896.97\n",
      "Average price for 2821.0 is 2830.1\n",
      "Average price for 2774.95 is 2774.95\n",
      "Average price for 2730.0 is 2851.2\n",
      "Average price for 2821.8 is 2832.15\n",
      "Average price for 2770.0 is 2822.25\n",
      "Average price for 2754.95 is 2775.6\n",
      "Average price for 2762.0 is 2791.25\n",
      "Average price for 2805.9 is 2834.95\n",
      "Average price for 2794.0 is 2794.0\n",
      "Average price for 2878.5 is 2884.65\n",
      "Average price for 2891.0 is 2929.0\n",
      "Average price for 2888.0 is 2900.55\n",
      "Average price for 2886.65 is 2913.95\n",
      "Average price for 2886.0 is 2912.5\n",
      "Average price for 2908.0 is 2934.0\n",
      "Average price for 2905.0 is 2928.88\n",
      "Average price for 2893.45 is 2904.0\n",
      "Average price for 2893.0 is 2893.0\n",
      "Average price for 2873.05 is 2877.95\n",
      "Average price for 2839.8 is 2839.8\n",
      "Average price for 2822.95 is 2822.95\n",
      "Average price for 2720.15 is 2828.0\n",
      "Average price for 2842.95 is 2882.0\n",
      "Average price for 2869.95 is 2989.0\n",
      "Average price for 2935.0 is 2985.0\n",
      "Average price for 2983.0 is 3078.25\n",
      "Average price for 3066.6 is 3083.0\n",
      "Average price for 3049.0 is 3114.95\n",
      "Average price for 3078.0 is 3174.95\n",
      "Average price for 3194.9 is 3194.95\n",
      "Average price for 3123.0 is 3156.95\n",
      "Average price for 3137.0 is 3165.0\n",
      "Average price for 3107.1 is 3125.95\n",
      "Average price for 3104.0 is 3160.85\n",
      "Average price for 3107.8 is 3144.4\n",
      "Average price for 3130.0 is 3149.23\n",
      "Average price for 2839.95 is 2861.47\n",
      "Average price for 2691.0 is 2725.0\n",
      "Average price for 2670.0 is 2692.88\n",
      "Average price for 2646.0 is 2666.95\n",
      "Average price for 2637.0 is 2697.0\n",
      "Average price for 2686.95 is 2699.0\n",
      "Average price for 2678.0 is 2715.0\n",
      "Average price for 2696.0 is 2708.0\n",
      "Average price for 2667.85 is 2677.2\n",
      "Average price for 2628.9 is 2658.0\n",
      "Average price for 2671.0 is 2677.95\n",
      "Average price for 2674.0 is 2746.6\n",
      "Average price for 2750.0 is 2770.0\n",
      "Average price for 2683.9 is 2697.0\n",
      "Average price for 2691.9 is 2708.0\n",
      "Average price for 2701.0 is 2705.0\n",
      "Average price for 2779.95 is 2785.0\n",
      "Average price for 2726.0 is 2780.05\n",
      "Average price for 2782.0 is 2808.0\n",
      "Average price for 2843.95 is 2932.0\n",
      "Average price for 2836.0 is 2862.02\n",
      "Average price for 2864.0 is 2879.9\n",
      "Average price for 2778.0 is 2831.57\n",
      "Average price for 2806.0 is 2843.0\n",
      "Average price for 2727.1 is 2801.85\n",
      "Average price for 2796.5 is 2808.75\n",
      "Average price for 2773.4 is 2826.0\n",
      "Average price for 2687.0 is 2732.25\n",
      "Average price for 2526.05 is 2604.1\n",
      "Average price for 2549.5 is 2648.95\n",
      "Average price for 2644.0 is 2647.4\n",
      "Average price for 2638.0 is 2648.82\n",
      "Average price for 2535.25 is 2542.85\n",
      "Average price for 2615.0 is 2619.9\n",
      "Average price for 2554.0 is 2583.0\n",
      "Average price for 2613.1 is 2619.0\n",
      "Average price for 2673.2 is 2698.0\n",
      "Average price for 2679.65 is 2679.65\n",
      "Average price for 2673.0 is 2673.0\n",
      "Average price for 2606.0 is 2662.9\n",
      "Average price for 2642.0 is 2643.95\n",
      "Average price for 2612.0 is 2673.28\n",
      "Average price for 2633.0 is 2737.0\n",
      "Average price for 2740.1 is 2790.0\n",
      "Average price for 2759.0 is 2774.5\n",
      "Average price for 2713.0 is 2769.95\n",
      "Average price for 2710.0 is 2752.5\n",
      "Average price for 2742.0 is 2858.0\n",
      "Average price for 2833.0 is 2853.0\n",
      "Average price for 2853.9 is 2882.0\n",
      "Average price for 2897.0 is 2905.0\n",
      "Average price for 2825.5 is 2832.7\n",
      "Average price for 2713.7 is 2749.8\n",
      "Average price for 2763.9 is 2764.0\n",
      "Average price for 2753.9 is 2759.95\n",
      "Average price for 2690.1 is 2723.85\n",
      "Average price for 2714.0 is 2742.0\n",
      "Average price for 2739.9 is 2740.0\n",
      "Average price for 2667.0 is 2700.0\n",
      "Average price for 2702.5 is 2710.0\n",
      "Average price for 2728.0 is 2746.35\n",
      "Average price for 2736.0 is 2736.0\n",
      "Average price for 2741.0 is 2746.5\n",
      "Average price for 2724.75 is 2724.75\n",
      "Average price for 2699.0 is 2699.0\n",
      "Average price for 2622.3 is 2672.0\n",
      "Average price for 2629.95 is 2634.0\n",
      "Average price for 2563.0 is 2597.15\n",
      "Average price for 2571.0 is 2653.35\n",
      "Average price for 2501.15 is 2570.0\n",
      "Average price for 2610.0 is 2672.4\n",
      "Average price for 2785.0 is 2872.0\n",
      "Average price for 2845.6 is 2854.0\n",
      "Average price for 2825.15 is 2850.0\n",
      "Average price for 2817.0 is 2854.7\n",
      "Average price for 2870.0 is 2912.5\n",
      "Average price for 2930.0 is 2933.8\n",
      "Average price for 2914.0 is 2942.47\n",
      "Average price for 2835.05 is 2917.4\n",
      "Average price for 2895.65 is 2942.0\n",
      "Average price for 2910.0 is 2968.43\n",
      "Average price for 3012.0 is 3022.9\n",
      "Average price for 3002.0 is 3037.55\n",
      "Average price for 3002.1 is 3032.2\n",
      "Average price for 3026.9 is 3047.8\n",
      "Average price for 3008.0 is 3008.0\n",
      "Average price for 2969.8 is 2969.8\n",
      "Average price for 2934.8 is 2965.6\n",
      "Average price for 2961.05 is 2968.0\n",
      "Average price for 2965.0 is 3022.5\n",
      "Average price for 2989.0 is 3030.22\n",
      "Average price for 2953.0 is 2965.88\n",
      "Average price for 2947.95 is 2950.0\n",
      "Average price for 2862.0 is 2884.05\n",
      "Average price for 2869.65 is 2880.0\n",
      "Average price for 2917.95 is 2952.0\n",
      "Average price for 2940.9 is 3000.0\n",
      "Average price for 2991.8 is 3022.47\n",
      "Average price for 3013.0 is 3046.0\n",
      "Average price for 3045.0 is 3062.45\n",
      "Average price for 3069.0 is 3089.9\n",
      "Average price for 3055.5 is 3079.0\n",
      "Average price for 3050.0 is 3070.0\n",
      "Average price for 3035.0 is 3066.43\n",
      "Average price for 3073.95 is 3110.0\n",
      "Average price for 3080.0 is 3096.32\n",
      "Average price for 3028.0 is 3066.0\n",
      "Average price for 3054.0 is 3054.0\n",
      "Average price for 3026.0 is 3053.0\n",
      "Average price for 2950.0 is 3028.29\n",
      "Average price for 2980.5 is 3008.0\n",
      "Average price for 2970.35 is 2999.0\n",
      "Average price for 2937.25 is 2949.45\n",
      "Average price for 3087.95 is 3087.95\n",
      "Average price for 3014.0 is 3084.95\n",
      "Average price for 2980.05 is 3054.0\n",
      "Average price for 3075.0 is 3085.0\n",
      "Average price for 3065.0 is 3098.9\n",
      "Average price for 3085.1 is 3090.0\n",
      "Average price for 3067.0 is 3108.35\n",
      "Average price for 2990.0 is 3029.22\n",
      "Average price for 2942.0 is 2986.5\n",
      "Average price for 3026.2 is 3029.3\n",
      "Average price for 2999.95 is 3006.65\n",
      "Average price for 2976.0 is 2999.0\n",
      "Average price for 3003.8 is 3025.0\n",
      "Average price for 2991.0 is 2997.05\n",
      "Average price for 2951.0 is 2962.5\n",
      "Average price for 2865.05 is 2870.0\n",
      "Average price for 2837.9 is 2906.9\n",
      "Average price for 2894.9 is 2910.9\n",
      "Average price for 2814.0 is 2853.95\n",
      "Average price for 2867.25 is 2909.9\n",
      "Average price for 2838.4 is 2920.15\n",
      "Average price for 2919.0 is 2927.95\n",
      "Average price for 2827.55 is 2827.55\n",
      "Average price for 2774.0 is 2781.5\n",
      "Average price for 2725.0 is 2735.75\n",
      "Average price for 2523.85 is 2543.0\n",
      "Average price for 2526.45 is 2567.9\n",
      "Average price for 2547.0 is 2679.95\n",
      "Average price for 2485.05 is 2552.6\n",
      "Average price for 2517.1 is 2618.0\n",
      "Average price for 2565.0 is 2642.65\n",
      "Average price for 2635.5 is 2635.5\n",
      "Average price for 2710.55 is 2741.5\n",
      "Average price for 2699.95 is 2742.85\n",
      "Average price for 2672.0 is 2757.0\n",
      "Average price for 2712.05 is 2760.0\n",
      "Average price for 2764.75 is 2773.0\n",
      "Average price for 2745.95 is 2771.5\n",
      "Average price for 2743.95 is 2765.0\n",
      "Average price for 2794.7 is 2794.7\n",
      "Average price for 2754.0 is 2798.4\n",
      "Average price for 2766.1 is 2796.9\n",
      "Average price for 2775.3 is 2805.1\n",
      "Average price for 2774.4 is 2788.45\n",
      "Average price for 2740.05 is 2775.45\n",
      "Average price for 2772.9 is 2864.8\n",
      "Average price for 2809.0 is 2838.55\n",
      "Average price for 2838.9 is 2920.45\n",
      "Average price for 2911.0 is 2911.4\n",
      "Average price for 2859.0 is 2887.7\n",
      "Average price for 2874.8 is 2875.85\n",
      "Average price for 2956.1 is 3027.15\n",
      "Average price for 3001.0 is 3012.5\n",
      "Average price for 2960.1 is 2974.95\n",
      "Average price for 2859.9 is 2900.05\n",
      "Average price for 2881.0 is 2932.0\n",
      "Average price for 2889.1 is 2975.0\n",
      "Average price for 3009.0 is 3140.0\n",
      "Average price for 3119.0 is 3119.95\n",
      "Average price for 3090.05 is 3154.4\n",
      "Average price for 3122.4 is 3237.35\n",
      "Average price for 3165.0 is 3201.0\n",
      "Average price for 3187.15 is 3187.15\n",
      "Average price for 3159.0 is 3173.3\n",
      "Average price for 3145.0 is 3201.82\n",
      "Average price for 3199.4 is 3229.4\n",
      "Average price for 3229.7 is 3255.0\n",
      "Average price for 3250.0 is 3289.0\n",
      "Average price for 3236.0 is 3248.25\n",
      "Average price for 3257.8 is 3288.8\n",
      "Average price for 3238.0 is 3254.0\n",
      "Average price for 3205.0 is 3234.78\n",
      "Average price for 3240.0 is 3266.28\n",
      "Average price for 3156.0 is 3171.5\n",
      "Average price for 3145.55 is 3168.9\n",
      "Average price for 3152.4 is 3209.0\n",
      "Average price for 3180.0 is 3186.0\n",
      "Average price for 3152.35 is 3206.3\n",
      "Average price for 3199.9 is 3228.0\n",
      "Average price for 3188.15 is 3217.25\n",
      "Average price for 3163.1 is 3217.4\n",
      "Average price for 3167.0 is 3270.0\n",
      "Average price for 3259.75 is 3278.0\n",
      "Average price for 3243.1 is 3258.0\n",
      "Average price for 3223.9 is 3239.85\n",
      "Average price for 3240.15 is 3274.85\n",
      "Average price for 3276.3 is 3283.3\n",
      "Average price for 3274.9 is 3274.9\n",
      "Average price for 3234.5 is 3280.0\n",
      "Average price for 3199.05 is 3220.0\n",
      "Average price for 3206.0 is 3232.0\n",
      "Average price for 3232.0 is 3239.8\n",
      "Average price for 3220.0 is 3235.0\n",
      "Average price for 3226.0 is 3239.0\n",
      "Average price for 3221.25 is 3258.0\n",
      "Average price for 3251.0 is 3251.0\n",
      "Average price for 3183.0 is 3193.75\n",
      "Average price for 3154.95 is 3172.5\n",
      "Average price for 3125.5 is 3128.25\n",
      "Average price for 3070.0 is 3084.78\n",
      "Average price for 3045.5 is 3072.0\n",
      "Average price for 3000.0 is 3073.4\n",
      "Average price for 3076.0 is 3110.0\n",
      "Average price for 3098.0 is 3117.0\n",
      "Average price for 3106.0 is 3119.95\n",
      "Average price for 3091.1 is 3118.0\n",
      "Average price for 3101.0 is 3138.0\n",
      "Average price for 3129.8 is 3150.0\n",
      "Average price for 3112.0 is 3138.0\n",
      "Average price for 3096.0 is 3119.0\n",
      "Average price for 3105.0 is 3110.0\n",
      "Average price for 3072.0 is 3089.95\n",
      "Average price for 3068.0 is 3088.97\n",
      "Average price for 3069.8 is 3122.95\n",
      "Average price for 3089.8 is 3109.6\n",
      "Average price for 3079.0 is 3099.0\n",
      "Average price for 3108.5 is 3185.0\n",
      "Average price for 3150.0 is 3239.95\n",
      "Average price for 3173.6 is 3215.6\n",
      "Average price for 3143.0 is 3315.15\n",
      "Average price for 3185.0 is 3220.9\n",
      "Average price for 3170.0 is 3211.0\n",
      "Average price for 3164.8 is 3189.0\n",
      "Average price for 3164.7 is 3184.65\n",
      "Average price for 3149.0 is 3172.2\n",
      "Average price for 3152.55 is 3159.45\n",
      "Average price for 3064.7 is 3090.55\n",
      "Average price for 3092.0 is 3111.95\n",
      "Average price for 3091.0 is 3100.05\n",
      "Average price for 3077.0 is 3103.32\n",
      "Average price for 2992.0 is 3007.0\n",
      "Average price for 2937.0 is 2974.0\n",
      "Average price for 2944.8 is 2969.95\n",
      "Average price for 2920.0 is 2944.5\n",
      "Average price for 2719.95 is 2749.0\n",
      "Average price for 2519.95 is 2535.0\n",
      "Average price for 2249.0 is 2432.45\n",
      "Average price for 2345.2 is 2372.7\n",
      "Average price for 2119.75 is 2377.4\n",
      "Average price for 2189.9 is 2298.9\n",
      "Average price for 2052.0 is 2389.0\n",
      "Average price for 1917.0 is 1989.0\n",
      "Average price for 1998.2 is 2133.9\n",
      "Average price for 2149.0 is 2167.0\n",
      "Average price for 2016.0 is 2020.8\n",
      "Average price for 2037.35 is 2048.4\n",
      "Average price for 2051.1 is 2056.3\n",
      "Average price for 2430.15 is 2430.15\n",
      "Average price for 2330.0 is 2365.0\n",
      "Average price for 2380.0 is 2425.05\n",
      "Average price for 2323.25 is 2412.1\n",
      "Average price for 2379.7 is 2446.95\n",
      "Average price for 2510.85 is 2546.4\n",
      "Average price for 2474.0 is 2520.0\n",
      "Average price for 2525.1 is 2654.0\n",
      "Average price for 2446.05 is 2450.0\n",
      "Average price for 2531.0 is 2655.9\n",
      "Average price for 2601.5 is 2730.0\n",
      "Average price for 2650.0 is 2653.35\n",
      "Average price for 2518.0 is 2555.0\n",
      "Average price for 2634.5 is 2724.2\n",
      "Average price for 2623.0 is 2634.5\n",
      "Average price for 2588.0 is 2619.5\n",
      "Average price for 2603.0 is 2741.0\n",
      "Average price for 2759.9 is 2814.25\n",
      "Average price for 2842.0 is 2842.9\n",
      "Average price for 2805.1 is 2814.6\n",
      "Average price for 2790.2 is 2803.95\n",
      "Average price for 2717.2 is 2758.0\n",
      "Average price for 2610.25 is 2799.05\n",
      "Average price for 2718.45 is 2737.8\n",
      "Average price for 2689.45 is 2697.15\n",
      "Average price for 2899.8 is 2979.9\n",
      "Average price for 2789.8 is 2890.0\n",
      "Average price for 2853.7 is 2900.0\n",
      "Average price for 2902.4 is 2913.45\n",
      "Average price for 2838.05 is 2872.0\n",
      "Average price for 2857.9 is 2903.45\n",
      "Average price for 2899.0 is 2960.0\n",
      "Average price for 2942.05 is 2946.0\n",
      "Average price for 2901.0 is 2974.0\n",
      "Average price for 2878.0 is 2895.0\n",
      "Average price for 2898.9 is 2910.0\n",
      "Average price for 2944.0 is 2950.0\n",
      "Average price for 3015.0 is 3036.48\n",
      "Average price for 3011.0 is 3030.15\n",
      "Average price for 3030.0 is 3064.16\n",
      "Average price for 3021.0 is 3130.0\n",
      "Average price for 3127.05 is 3149.0\n",
      "Average price for 3068.85 is 3077.9\n",
      "Average price for 2986.2 is 3035.45\n",
      "Average price for 3024.8 is 3075.0\n",
      "Average price for 3001.7 is 3025.0\n",
      "Average price for 3020.8 is 3060.0\n",
      "Average price for 3007.45 is 3035.0\n",
      "Average price for 3022.0 is 3028.25\n",
      "Average price for 3124.0 is 3147.0\n",
      "Average price for 3059.0 is 3065.0\n",
      "Average price for 3062.0 is 3075.0\n",
      "Average price for 3062.9 is 3096.0\n",
      "Average price for 3054.4 is 3054.4\n",
      "Average price for 3080.05 is 3138.0\n",
      "Average price for 3082.2 is 3088.75\n",
      "Average price for 3044.0 is 3062.45\n",
      "Average price for 3025.0 is 3040.33\n",
      "Average price for 2947.0 is 2985.5\n",
      "Average price for 2909.05 is 2923.7\n",
      "Average price for 2898.35 is 2906.85\n",
      "Average price for 2917.1 is 2924.35\n",
      "Average price for 2922.0 is 2988.0\n",
      "Average price for 2957.4 is 2960.0\n",
      "Average price for 2942.5 is 3049.0\n",
      "Average price for 3023.1 is 3070.0\n",
      "Average price for 3045.95 is 3045.95\n",
      "Average price for 2984.2 is 3009.45\n",
      "Average price for 2993.0 is 3047.6\n",
      "Average price for 2964.9 is 3001.9\n",
      "Average price for 2954.95 is 2998.5\n",
      "Average price for 2976.9 is 3022.3\n",
      "Average price for 2992.7 is 3011.0\n",
      "Average price for 2897.55 is 2939.0\n",
      "Average price for 3016.4 is 3020.0\n",
      "Average price for 2975.0 is 3097.95\n",
      "Average price for 3051.0 is 3074.65\n",
      "Average price for 3037.95 is 3075.0\n",
      "Average price for 3059.95 is 3130.0\n",
      "Average price for 3009.8 is 3039.45\n",
      "Average price for 3097.95 is 3113.75\n",
      "Average price for 2918.95 is 2934.0\n",
      "Average price for 2855.2 is 2929.95\n",
      "Average price for 3017.7 is 3040.0\n",
      "Average price for 3055.65 is 3065.0\n",
      "Average price for 3055.8 is 3055.8\n",
      "Average price for 3033.0 is 3070.75\n",
      "Average price for 3100.0 is 3160.0\n",
      "Average price for 3053.0 is 3150.0\n",
      "Average price for 3144.9 is 3249.0\n",
      "Average price for 3175.1 is 3248.95\n",
      "Average price for 3243.65 is 3348.0\n",
      "Average price for 3368.7 is 3371.2\n",
      "Average price for 3298.3 is 3344.55\n",
      "Average price for 3311.4 is 3335.0\n",
      "Average price for 3320.0 is 3384.75\n",
      "Average price for 3335.0 is 3353.65\n",
      "Average price for 3306.2 is 3319.95\n",
      "Average price for 3295.6 is 3337.15\n",
      "Average price for 3327.65 is 3334.55\n",
      "Average price for 3284.0 is 3347.2\n",
      "Average price for 3307.1 is 3330.0\n",
      "Average price for 3275.9 is 3363.0\n",
      "Average price for 3352.5 is 3355.0\n",
      "Average price for 3245.0 is 3285.0\n",
      "Average price for 3281.0 is 3318.95\n",
      "Average price for 3318.0 is 3423.55\n",
      "Average price for 3388.0 is 3422.0\n",
      "Average price for 3433.0 is 3459.9\n",
      "Average price for 3437.2 is 3472.85\n",
      "Average price for 3464.95 is 3464.95\n",
      "Average price for 3446.0 is 3494.0\n",
      "Average price for 3490.0 is 3528.0\n",
      "Average price for 3500.25 is 3505.0\n",
      "Average price for 3492.65 is 3527.0\n",
      "Average price for 3500.0 is 3507.35\n",
      "Average price for 3469.0 is 3544.6\n",
      "Average price for 3531.0 is 3634.55\n",
      "Average price for 3611.95 is 3642.8\n",
      "Average price for 3624.25 is 3633.0\n",
      "Average price for 3600.0 is 3658.65\n",
      "Average price for 3588.0 is 3623.0\n",
      "Average price for 3552.0 is 3618.05\n",
      "Average price for 3565.75 is 3664.0\n",
      "Average price for 3640.0 is 3693.4\n",
      "Average price for 3672.0 is 3807.0\n",
      "Average price for 3749.95 is 4130.0\n",
      "Average price for 4150.0 is 4210.0\n",
      "Average price for 4133.4 is 4236.65\n",
      "Average price for 4080.0 is 4190.0\n",
      "Average price for 4168.0 is 4205.35\n",
      "Average price for 4064.0 is 4141.0\n",
      "Average price for 4155.8 is 4271.15\n",
      "Average price for 4205.0 is 4259.15\n",
      "Average price for 4236.35 is 4361.4\n",
      "Average price for 4260.0 is 4272.8\n",
      "Average price for 4231.45 is 4258.5\n",
      "Average price for 4228.4 is 4238.0\n",
      "Average price for 4160.0 is 4215.0\n",
      "Average price for 4155.0 is 4202.4\n",
      "Average price for 4179.0 is 4195.8\n",
      "Average price for 4152.2 is 4194.65\n",
      "Average price for 4130.0 is 4177.6\n",
      "Average price for 4117.0 is 4205.0\n",
      "Average price for 4200.0 is 4200.0\n",
      "Average price for 4106.0 is 4106.7\n",
      "Average price for 4010.0 is 4040.0\n",
      "Average price for 3952.0 is 3998.7\n",
      "Average price for 3927.0 is 3950.0\n",
      "Average price for 3936.0 is 3980.0\n",
      "Average price for 3910.5 is 3943.1\n",
      "Average price for 3798.7 is 3858.8\n",
      "Average price for 3822.0 is 3962.15\n",
      "Average price for 3985.0 is 3985.0\n",
      "Average price for 3875.0 is 3927.6\n",
      "Average price for 3852.1 is 3913.25\n",
      "Average price for 3848.0 is 3848.0\n",
      "Average price for 3802.2 is 3829.7\n",
      "Average price for 3820.0 is 3879.0\n",
      "Average price for 3878.0 is 3878.0\n",
      "Average price for 3775.0 is 3775.0\n",
      "Average price for 3673.15 is 3690.0\n",
      "Average price for 3650.0 is 3680.8\n",
      "Average price for 3598.0 is 3692.95\n",
      "Average price for 3653.95 is 3673.0\n",
      "Average price for 3650.2 is 3685.0\n",
      "Average price for 3665.55 is 3709.95\n",
      "Average price for 3661.0 is 3698.0\n",
      "Average price for 3615.0 is 3615.0\n",
      "Average price for 3517.1 is 3619.25\n",
      "Average price for 3604.25 is 3674.75\n",
      "Average price for 3704.0 is 3764.3\n",
      "Average price for 3700.05 is 3740.0\n",
      "Average price for 3639.95 is 3640.0\n",
      "Average price for 3605.0 is 3693.45\n",
      "Average price for 3698.95 is 3698.95\n",
      "Average price for 3579.5 is 3599.0\n",
      "Average price for 3569.0 is 3623.7\n",
      "Average price for 3602.45 is 3655.55\n",
      "Average price for 3580.0 is 3657.5\n",
      "Average price for 3525.2 is 3562.0\n",
      "Average price for 3585.35 is 3624.3\n",
      "Average price for 3594.8 is 3694.0\n",
      "Average price for 3680.0 is 3709.6\n",
      "Average price for 3682.2 is 3749.0\n",
      "Average price for 3738.85 is 3798.0\n",
      "Average price for 3810.05 is 3954.0\n",
      "Average price for 3943.0 is 3954.3\n",
      "Average price for 3805.0 is 3966.35\n"
     ]
    }
   ],
   "source": [
    "data = {}\n",
    "with open(\"BAJAJ-AUTO.csv\") as b:\n",
    "    pricelist = []\n",
    "    for rec in b:\n",
    "        rec = rec.strip()\n",
    "        cols = [x.strip('\"') for x in rec.split(',')]\n",
    "        if cols[5] == \"Open\" or cols[5] == \"High\":\n",
    "            continue\n",
    "        if cols[4] in data:\n",
    "            data[cols[4].strip()].append(float(cols[5]))\n",
    "        else:\n",
    "            data[cols[4].strip()] = [float(cols[5])]\n",
    "        \n",
    "for year in data:\n",
    "    print(\"Average price for {} is {}\".format(year, round(sum(data[year])/len(data[year]),2)))\n"
   ]
  },
  {
   "cell_type": "code",
   "execution_count": 7,
   "id": "1b3fdbde",
   "metadata": {},
   "outputs": [],
   "source": [
    "data = {}\n",
    "with open(\"BAJAJ-AUTO.csv\") as b, open(\"data-writes.txt\", \"w+\") as w:\n",
    "    pricelist = []\n",
    "    for rec in b:\n",
    "        rec = rec.strip()\n",
    "        cols = [x.strip('\"') for x in rec.split(',')]\n",
    "        if cols[5] == \"Open\" or cols[5] == \"High\":\n",
    "            continue\n",
    "        if cols[4] in data:\n",
    "            data[cols[4].strip()].append(float(cols[5]))\n",
    "        else:\n",
    "            data[cols[4].strip()] = [float(cols[5])]\n",
    "    for year in data:\n",
    "        avg_price = round(sum(data[year]) / len(data[year]), 2)\n",
    "        w.write(\"Avg price for {} is {} \\n\".format(year, avg_price))\n"
   ]
  },
  {
   "cell_type": "code",
   "execution_count": 24,
   "id": "acce821a",
   "metadata": {},
   "outputs": [
    {
     "name": "stdout",
     "output_type": "stream",
     "text": [
      "sample.csv\n"
     ]
    }
   ],
   "source": [
    "import os\n",
    "path = \"/user/prem/data/sample.csv\"\n",
    "print(os.path.basename(path))"
   ]
  },
  {
   "cell_type": "code",
   "execution_count": 22,
   "id": "9a88c64f",
   "metadata": {},
   "outputs": [
    {
     "data": {
      "text/plain": [
       "'/user/prem/data'"
      ]
     },
     "execution_count": 22,
     "metadata": {},
     "output_type": "execute_result"
    }
   ],
   "source": [
    "os.path.dirname(path)"
   ]
  },
  {
   "cell_type": "code",
   "execution_count": 23,
   "id": "5b4d9207",
   "metadata": {},
   "outputs": [
    {
     "data": {
      "text/plain": [
       "'tmp\\\\data\\\\sample.csv'"
      ]
     },
     "execution_count": 23,
     "metadata": {},
     "output_type": "execute_result"
    }
   ],
   "source": [
    "os.path.join(\"tmp\", \"data\", os.path.basename(path))"
   ]
  },
  {
   "cell_type": "code",
   "execution_count": 25,
   "id": "447cffc6",
   "metadata": {},
   "outputs": [
    {
     "data": {
      "text/plain": [
       "('/user/prem/data/sample', '.csv')"
      ]
     },
     "execution_count": 25,
     "metadata": {},
     "output_type": "execute_result"
    }
   ],
   "source": [
    "os.path.splitext(path)"
   ]
  },
  {
   "cell_type": "code",
   "execution_count": 26,
   "id": "4cef3af5",
   "metadata": {},
   "outputs": [
    {
     "data": {
      "text/plain": [
       "False"
      ]
     },
     "execution_count": 26,
     "metadata": {},
     "output_type": "execute_result"
    }
   ],
   "source": [
    "import os\n",
    "os.path.exists(\"/etc/passwd\")"
   ]
  },
  {
   "cell_type": "code",
   "execution_count": 29,
   "id": "3fa3bf2b",
   "metadata": {},
   "outputs": [
    {
     "data": {
      "text/plain": [
       "False"
      ]
     },
     "execution_count": 29,
     "metadata": {},
     "output_type": "execute_result"
    }
   ],
   "source": [
    "os.path.exists(\"/Users/Premchand\")"
   ]
  },
  {
   "cell_type": "code",
   "execution_count": 30,
   "id": "91732ec0",
   "metadata": {},
   "outputs": [
    {
     "data": {
      "text/plain": [
       "False"
      ]
     },
     "execution_count": 30,
     "metadata": {},
     "output_type": "execute_result"
    }
   ],
   "source": [
    "os.path.isfile('/etc/passwd')\n"
   ]
  },
  {
   "cell_type": "code",
   "execution_count": 31,
   "id": "1428d676",
   "metadata": {},
   "outputs": [
    {
     "data": {
      "text/plain": [
       "False"
      ]
     },
     "execution_count": 31,
     "metadata": {},
     "output_type": "execute_result"
    }
   ],
   "source": [
    "os.path.isdir('/etc/passwd')"
   ]
  },
  {
   "cell_type": "code",
   "execution_count": 32,
   "id": "91a49e97",
   "metadata": {},
   "outputs": [
    {
     "data": {
      "text/plain": [
       "False"
      ]
     },
     "execution_count": 32,
     "metadata": {},
     "output_type": "execute_result"
    }
   ],
   "source": [
    "os.path.islink('/Users/Premchand')"
   ]
  },
  {
   "cell_type": "code",
   "execution_count": 33,
   "id": "4e38f81e",
   "metadata": {},
   "outputs": [
    {
     "name": "stdout",
     "output_type": "stream",
     "text": [
      "['$Recycle.Bin', '$WinREAgent', 'bootmgr', 'BOOTNXT', 'Config.Msi', 'Documents and Settings', 'DumpStack.log.tmp', 'hiberfil.sys', 'Intel', 'Out-of-Box Drivers', 'pagefile.sys', 'PerfLogs', 'Program Files', 'Program Files (x86)', 'ProgramData', 'Recovery', 'swapfile.sys', 'System Volume Information', 'Users', 'Win10Pro 20H2', 'Windows']\n"
     ]
    }
   ],
   "source": [
    "import os\n",
    "name = os.listdir(\"/\")\n",
    "print(name)"
   ]
  },
  {
   "cell_type": "code",
   "execution_count": 36,
   "id": "094fd04c",
   "metadata": {},
   "outputs": [],
   "source": [
    "#get all regular files\n",
    "import os.path\n",
    "names = [name for name in os.listdir(\"/\") if os.path.isfile(os.path.join('/',name))]\n"
   ]
  },
  {
   "cell_type": "code",
   "execution_count": 37,
   "id": "c48adbac",
   "metadata": {},
   "outputs": [
    {
     "data": {
      "text/plain": [
       "['bootmgr',\n",
       " 'BOOTNXT',\n",
       " 'DumpStack.log.tmp',\n",
       " 'hiberfil.sys',\n",
       " 'pagefile.sys',\n",
       " 'swapfile.sys']"
      ]
     },
     "execution_count": 37,
     "metadata": {},
     "output_type": "execute_result"
    }
   ],
   "source": [
    "names"
   ]
  },
  {
   "cell_type": "code",
   "execution_count": 38,
   "id": "428f8ee7",
   "metadata": {},
   "outputs": [],
   "source": [
    "dirnames = [name for name in os.listdir(\"/\") if os.path.isdir(os.path.join('/',name))]"
   ]
  },
  {
   "cell_type": "code",
   "execution_count": 39,
   "id": "c33a9184",
   "metadata": {},
   "outputs": [
    {
     "data": {
      "text/plain": [
       "['$Recycle.Bin',\n",
       " '$WinREAgent',\n",
       " 'Config.Msi',\n",
       " 'Documents and Settings',\n",
       " 'Intel',\n",
       " 'Out-of-Box Drivers',\n",
       " 'PerfLogs',\n",
       " 'Program Files',\n",
       " 'Program Files (x86)',\n",
       " 'ProgramData',\n",
       " 'Recovery',\n",
       " 'System Volume Information',\n",
       " 'Users',\n",
       " 'Win10Pro 20H2',\n",
       " 'Windows']"
      ]
     },
     "execution_count": 39,
     "metadata": {},
     "output_type": "execute_result"
    }
   ],
   "source": [
    "dirnames"
   ]
  },
  {
   "cell_type": "code",
   "execution_count": 40,
   "id": "679fd377",
   "metadata": {},
   "outputs": [],
   "source": [
    "import pickle"
   ]
  },
  {
   "cell_type": "code",
   "execution_count": 45,
   "id": "d36ca6d8",
   "metadata": {},
   "outputs": [],
   "source": [
    "dict_pickle = {\"key\":\"john\", \"name\" : \"fred\", \"age\":21, \"pat\":400000}\n",
    "f = open('pickle','wb')\n",
    "#dump the object\n",
    "pickle.dump(dict_pickle,f)"
   ]
  },
  {
   "cell_type": "code",
   "execution_count": 47,
   "id": "fb6c7f58",
   "metadata": {},
   "outputs": [],
   "source": [
    "#dump into string\n",
    "s = pickle.dumps(dict_pickle)"
   ]
  },
  {
   "cell_type": "code",
   "execution_count": 48,
   "id": "eacba81b",
   "metadata": {},
   "outputs": [
    {
     "name": "stdout",
     "output_type": "stream",
     "text": [
      "b'\\x80\\x04\\x953\\x00\\x00\\x00\\x00\\x00\\x00\\x00}\\x94(\\x8c\\x03key\\x94\\x8c\\x04john\\x94\\x8c\\x04name\\x94\\x8c\\x04fred\\x94\\x8c\\x03age\\x94K\\x15\\x8c\\x03pat\\x94J\\x80\\x1a\\x06\\x00u.'\n"
     ]
    }
   ],
   "source": [
    "print(s)"
   ]
  },
  {
   "cell_type": "code",
   "execution_count": 50,
   "id": "7f8cc8aa",
   "metadata": {},
   "outputs": [],
   "source": [
    "f = open('pickle', 'rb')\n",
    "#load the object\n",
    "data = pickle.load(f)"
   ]
  },
  {
   "cell_type": "code",
   "execution_count": 51,
   "id": "303082e1",
   "metadata": {},
   "outputs": [
    {
     "name": "stdout",
     "output_type": "stream",
     "text": [
      "{'key': 'john', 'name': 'fred', 'age': 21, 'pat': 400000}\n"
     ]
    }
   ],
   "source": [
    "print(data)"
   ]
  },
  {
   "cell_type": "code",
   "execution_count": 52,
   "id": "696a3437",
   "metadata": {},
   "outputs": [],
   "source": [
    "import pickle"
   ]
  },
  {
   "cell_type": "code",
   "execution_count": 53,
   "id": "49ba85af",
   "metadata": {},
   "outputs": [],
   "source": [
    "f = open(\"somedata\", \"wb\")\n",
    "pickle.dump([1,2,3,4],f)\n",
    "pickle.dump(\"hello\",f)\n",
    "pickle.dump({\"apple\", \"pear\", \"banana\"}, f)"
   ]
  },
  {
   "cell_type": "code",
   "execution_count": 54,
   "id": "f6b76036",
   "metadata": {},
   "outputs": [],
   "source": [
    "f.close()"
   ]
  },
  {
   "cell_type": "code",
   "execution_count": 60,
   "id": "2cd9fb54",
   "metadata": {},
   "outputs": [],
   "source": [
    "f = open(\"somedata\",\"rb\")"
   ]
  },
  {
   "cell_type": "code",
   "execution_count": 56,
   "id": "249e598f",
   "metadata": {},
   "outputs": [
    {
     "data": {
      "text/plain": [
       "[1, 2, 3, 4]"
      ]
     },
     "execution_count": 56,
     "metadata": {},
     "output_type": "execute_result"
    }
   ],
   "source": [
    "pickle.load(f)"
   ]
  },
  {
   "cell_type": "code",
   "execution_count": 57,
   "id": "294918c6",
   "metadata": {},
   "outputs": [
    {
     "data": {
      "text/plain": [
       "'hello'"
      ]
     },
     "execution_count": 57,
     "metadata": {},
     "output_type": "execute_result"
    }
   ],
   "source": [
    "pickle.load(f)"
   ]
  },
  {
   "cell_type": "code",
   "execution_count": 58,
   "id": "4fb53b0c",
   "metadata": {},
   "outputs": [
    {
     "data": {
      "text/plain": [
       "{'apple', 'banana', 'pear'}"
      ]
     },
     "execution_count": 58,
     "metadata": {},
     "output_type": "execute_result"
    }
   ],
   "source": [
    "pickle.load(f)"
   ]
  },
  {
   "cell_type": "code",
   "execution_count": 61,
   "id": "885e9f2b",
   "metadata": {},
   "outputs": [
    {
     "data": {
      "text/plain": [
       "[1, 2, 3, 4]"
      ]
     },
     "execution_count": 61,
     "metadata": {},
     "output_type": "execute_result"
    }
   ],
   "source": [
    "pickle.load(f)"
   ]
  },
  {
   "cell_type": "code",
   "execution_count": 65,
   "id": "07078ae8",
   "metadata": {},
   "outputs": [
    {
     "name": "stdout",
     "output_type": "stream",
     "text": [
      "Test1 ==> {'key': 'Test1', 'name': 'fred', 'age': 21, 'pay': 40000}\n",
      "Test2 ==> {'key': 'Test1', 'name': 'fred', 'age': 21, 'pay': 40000}\n"
     ]
    }
   ],
   "source": [
    "import pickle\n",
    "def storeData():\n",
    "    #initialization the data\n",
    "    pickle_dataset1 = {\"key\":\"Test1\", \"name\":\"fred\",\"age\":21,\"pay\":40000}\n",
    "    pickle_dataset2 = {\"key\":\"Test2\", \"name\":\"prem\",\"age\":22,\"pay\":60000}\n",
    "    \n",
    "    db={}\n",
    "    db['Test1'] = pickle_dataset1\n",
    "    db['Test2'] = pickle_dataset1\n",
    "    dbfile = open(\"ExamplePickle\",\"wb\")\n",
    "    pickle.dump(db,dbfile)\n",
    "    dbfile.close()\n",
    "    \n",
    "def loadData():\n",
    "    # for reading\n",
    "    \n",
    "    dbfile = open(\"ExamplePickle\",\"rb\")\n",
    "    db = pickle.load(dbfile)\n",
    "    for key in db:\n",
    "        print(key, \"==>\", db[key])\n",
    "    dbfile.close()\n",
    "\n",
    "    \n",
    "if __name__ =='__main__':\n",
    "    storeData()\n",
    "    loadData()\n"
   ]
  },
  {
   "cell_type": "code",
   "execution_count": 66,
   "id": "8035f046",
   "metadata": {},
   "outputs": [
    {
     "name": "stdout",
     "output_type": "stream",
     "text": [
      "{\"name\": \"Prem\", \"age\": 21, \"Roll\": 30}\n"
     ]
    }
   ],
   "source": [
    "import json\n",
    "data = {\n",
    "    \"name\":\"Prem\",\n",
    "    \"age\":21,\n",
    "    \"Roll\":30\n",
    "}\n",
    "json_str = json.dumps(data)\n",
    "print(json_str)"
   ]
  },
  {
   "cell_type": "code",
   "execution_count": 67,
   "id": "f465c452",
   "metadata": {},
   "outputs": [
    {
     "name": "stdout",
     "output_type": "stream",
     "text": [
      "{'name': 'Prem', 'age': 21, 'Roll': 30}\n"
     ]
    }
   ],
   "source": [
    "data1=json.loads(json_str)\n",
    "print(data1)"
   ]
  },
  {
   "cell_type": "code",
   "execution_count": 68,
   "id": "67ddb1c2",
   "metadata": {},
   "outputs": [],
   "source": [
    "with open(\"data.json\",\"w\") as f:\n",
    "    json.dump(data, f)"
   ]
  },
  {
   "cell_type": "code",
   "execution_count": 69,
   "id": "b57fa631",
   "metadata": {},
   "outputs": [
    {
     "name": "stdout",
     "output_type": "stream",
     "text": [
      "{'name': 'Prem', 'age': 21, 'Roll': 30}\n"
     ]
    }
   ],
   "source": [
    "with open(\"data.json\",\"r\") as f:\n",
    "    g = json.load(f)\n",
    "    print(g)"
   ]
  },
  {
   "cell_type": "code",
   "execution_count": 70,
   "id": "04a390f9",
   "metadata": {},
   "outputs": [
    {
     "data": {
      "text/plain": [
       "'false'"
      ]
     },
     "execution_count": 70,
     "metadata": {},
     "output_type": "execute_result"
    }
   ],
   "source": [
    "json.dumps(False)"
   ]
  },
  {
   "cell_type": "code",
   "execution_count": 71,
   "id": "55530b61",
   "metadata": {},
   "outputs": [
    {
     "data": {
      "text/plain": [
       "'{\"a\": true, \"b\": \"Hello\", \"c\": null}'"
      ]
     },
     "execution_count": 71,
     "metadata": {},
     "output_type": "execute_result"
    }
   ],
   "source": [
    "d = {\"a\":True, \"b\":\"Hello\", \"c\":None}\n",
    "json.dumps(d)"
   ]
  },
  {
   "cell_type": "code",
   "execution_count": null,
   "id": "73ffeb57",
   "metadata": {},
   "outputs": [],
   "source": []
  }
 ],
 "metadata": {
  "kernelspec": {
   "display_name": "Python 3 (ipykernel)",
   "language": "python",
   "name": "python3"
  },
  "language_info": {
   "codemirror_mode": {
    "name": "ipython",
    "version": 3
   },
   "file_extension": ".py",
   "mimetype": "text/x-python",
   "name": "python",
   "nbconvert_exporter": "python",
   "pygments_lexer": "ipython3",
   "version": "3.9.7"
  }
 },
 "nbformat": 4,
 "nbformat_minor": 5
}
